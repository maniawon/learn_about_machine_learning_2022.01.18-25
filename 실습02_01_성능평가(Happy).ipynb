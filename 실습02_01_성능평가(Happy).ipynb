{
 "cells": [
  {
   "cell_type": "markdown",
   "metadata": {
    "id": "y1J78TFSRrSA"
   },
   "source": [
    "<center><img src='https://raw.githubusercontent.com/Jangrae/img/master/ml_python.png' width=600/></center>"
   ]
  },
  {
   "cell_type": "markdown",
   "metadata": {
    "id": "TSPbV_6rfe4O"
   },
   "source": [
    "# 실습 내용\n",
    "\n",
    "- 우선 머신러닝 모델링을 위한 코딩을 할 수 있어야 합니다.\n",
    "- 코딩 내용을 자세히 알지 못해도 무작정 코딩을 진행해봅니다.\n",
    "- Happy 데이터를 대상으로 모델링를 진행합니다.\n",
    "- LinearRegression 알고리즘을 사용합니다.\n",
    "- 다양한 방법으로 모델 성능을 평가합니다."
   ]
  },
  {
   "cell_type": "markdown",
   "metadata": {
    "id": "FDf7jozdnCP6"
   },
   "source": [
    "# 1.환경 준비\n",
    "\n",
    "- 기본 **라이브러리**와 대상 **데이터**를 가져와 이후 과정을 준비합니다."
   ]
  },
  {
   "cell_type": "markdown",
   "metadata": {
    "id": "dvyOt_GxnCQM"
   },
   "source": [
    "<img src = \"https://github.com/Jangrae/img/blob/master/code_11.png?raw=true\" width=700 align=\"left\"/>"
   ]
  },
  {
   "cell_type": "code",
   "execution_count": 1,
   "metadata": {
    "id": "CrhJhlvrnCQN",
    "scrolled": true
   },
   "outputs": [],
   "source": [
    "# 라이브러리 불러오기\n",
    "import numpy as np\n",
    "import pandas as pd\n",
    "import matplotlib.pyplot as plt\n",
    "\n",
    "%config InlineBackend.figure_format = 'retina'"
   ]
  },
  {
   "cell_type": "code",
   "execution_count": 2,
   "metadata": {
    "id": "G7wr7hI7nCQR"
   },
   "outputs": [],
   "source": [
    "# 데이터 읽어오기\n",
    "path = 'https://raw.githubusercontent.com/Jangrae/csv/master/income_happy.csv'\n",
    "data = pd.read_csv(path)"
   ]
  },
  {
   "cell_type": "markdown",
   "metadata": {
    "id": "MwQuL-7-nCQT"
   },
   "source": [
    "# 2.데이터 이해\n",
    "\n",
    "- 분석할 데이터를 **충분히 이해**할 수 있도록 다양한 **탐색** 과정을 수행합니다."
   ]
  },
  {
   "cell_type": "markdown",
   "metadata": {
    "id": "UwkKf4d5nCQU"
   },
   "source": [
    "<img src = \"https://github.com/Jangrae/img/blob/master/code_12.png?raw=true\" width=700 align=\"left\"/>"
   ]
  },
  {
   "cell_type": "code",
   "execution_count": 3,
   "metadata": {
    "id": "K2pz6Ee7nCQV"
   },
   "outputs": [
    {
     "data": {
      "text/html": [
       "<div>\n",
       "<style scoped>\n",
       "    .dataframe tbody tr th:only-of-type {\n",
       "        vertical-align: middle;\n",
       "    }\n",
       "\n",
       "    .dataframe tbody tr th {\n",
       "        vertical-align: top;\n",
       "    }\n",
       "\n",
       "    .dataframe thead th {\n",
       "        text-align: right;\n",
       "    }\n",
       "</style>\n",
       "<table border=\"1\" class=\"dataframe\">\n",
       "  <thead>\n",
       "    <tr style=\"text-align: right;\">\n",
       "      <th></th>\n",
       "      <th>income</th>\n",
       "      <th>happiness</th>\n",
       "    </tr>\n",
       "  </thead>\n",
       "  <tbody>\n",
       "    <tr>\n",
       "      <th>0</th>\n",
       "      <td>3.862647</td>\n",
       "      <td>2.314489</td>\n",
       "    </tr>\n",
       "    <tr>\n",
       "      <th>1</th>\n",
       "      <td>4.979381</td>\n",
       "      <td>3.433490</td>\n",
       "    </tr>\n",
       "    <tr>\n",
       "      <th>2</th>\n",
       "      <td>4.923957</td>\n",
       "      <td>4.599373</td>\n",
       "    </tr>\n",
       "    <tr>\n",
       "      <th>3</th>\n",
       "      <td>3.214372</td>\n",
       "      <td>2.791114</td>\n",
       "    </tr>\n",
       "    <tr>\n",
       "      <th>4</th>\n",
       "      <td>7.196409</td>\n",
       "      <td>5.596398</td>\n",
       "    </tr>\n",
       "  </tbody>\n",
       "</table>\n",
       "</div>"
      ],
      "text/plain": [
       "     income  happiness\n",
       "0  3.862647   2.314489\n",
       "1  4.979381   3.433490\n",
       "2  4.923957   4.599373\n",
       "3  3.214372   2.791114\n",
       "4  7.196409   5.596398"
      ]
     },
     "execution_count": 3,
     "metadata": {},
     "output_type": "execute_result"
    }
   ],
   "source": [
    "# 상위 몇 개 행 확인\n",
    "data.head()"
   ]
  },
  {
   "cell_type": "code",
   "execution_count": 4,
   "metadata": {
    "id": "whCAH-EAnCQV"
   },
   "outputs": [
    {
     "data": {
      "text/html": [
       "<div>\n",
       "<style scoped>\n",
       "    .dataframe tbody tr th:only-of-type {\n",
       "        vertical-align: middle;\n",
       "    }\n",
       "\n",
       "    .dataframe tbody tr th {\n",
       "        vertical-align: top;\n",
       "    }\n",
       "\n",
       "    .dataframe thead th {\n",
       "        text-align: right;\n",
       "    }\n",
       "</style>\n",
       "<table border=\"1\" class=\"dataframe\">\n",
       "  <thead>\n",
       "    <tr style=\"text-align: right;\">\n",
       "      <th></th>\n",
       "      <th>income</th>\n",
       "      <th>happiness</th>\n",
       "    </tr>\n",
       "  </thead>\n",
       "  <tbody>\n",
       "    <tr>\n",
       "      <th>493</th>\n",
       "      <td>5.249209</td>\n",
       "      <td>4.568705</td>\n",
       "    </tr>\n",
       "    <tr>\n",
       "      <th>494</th>\n",
       "      <td>3.471799</td>\n",
       "      <td>2.535002</td>\n",
       "    </tr>\n",
       "    <tr>\n",
       "      <th>495</th>\n",
       "      <td>6.087610</td>\n",
       "      <td>4.397451</td>\n",
       "    </tr>\n",
       "    <tr>\n",
       "      <th>496</th>\n",
       "      <td>3.440847</td>\n",
       "      <td>2.070664</td>\n",
       "    </tr>\n",
       "    <tr>\n",
       "      <th>497</th>\n",
       "      <td>4.530545</td>\n",
       "      <td>3.710193</td>\n",
       "    </tr>\n",
       "  </tbody>\n",
       "</table>\n",
       "</div>"
      ],
      "text/plain": [
       "       income  happiness\n",
       "493  5.249209   4.568705\n",
       "494  3.471799   2.535002\n",
       "495  6.087610   4.397451\n",
       "496  3.440847   2.070664\n",
       "497  4.530545   3.710193"
      ]
     },
     "execution_count": 4,
     "metadata": {},
     "output_type": "execute_result"
    }
   ],
   "source": [
    "# 하위 몇 개 행 확인\n",
    "data.tail()"
   ]
  },
  {
   "cell_type": "code",
   "execution_count": 5,
   "metadata": {
    "id": "1ZsXdcfp8uwI"
   },
   "outputs": [
    {
     "name": "stdout",
     "output_type": "stream",
     "text": [
      "<class 'pandas.core.frame.DataFrame'>\n",
      "RangeIndex: 498 entries, 0 to 497\n",
      "Data columns (total 2 columns):\n",
      " #   Column     Non-Null Count  Dtype  \n",
      "---  ------     --------------  -----  \n",
      " 0   income     498 non-null    float64\n",
      " 1   happiness  498 non-null    float64\n",
      "dtypes: float64(2)\n",
      "memory usage: 7.9 KB\n"
     ]
    }
   ],
   "source": [
    "# 변수 확인\n",
    "data.info()"
   ]
  },
  {
   "cell_type": "code",
   "execution_count": 6,
   "metadata": {
    "id": "4bD117Q3bVuf"
   },
   "outputs": [
    {
     "data": {
      "text/plain": [
       "(498, 2)"
      ]
     },
     "execution_count": 6,
     "metadata": {},
     "output_type": "execute_result"
    }
   ],
   "source": [
    "# 데이터 크기 확인\n",
    "data.shape"
   ]
  },
  {
   "cell_type": "code",
   "execution_count": 7,
   "metadata": {
    "id": "LhAk04Uy4Occ"
   },
   "outputs": [
    {
     "data": {
      "text/html": [
       "<div>\n",
       "<style scoped>\n",
       "    .dataframe tbody tr th:only-of-type {\n",
       "        vertical-align: middle;\n",
       "    }\n",
       "\n",
       "    .dataframe tbody tr th {\n",
       "        vertical-align: top;\n",
       "    }\n",
       "\n",
       "    .dataframe thead th {\n",
       "        text-align: right;\n",
       "    }\n",
       "</style>\n",
       "<table border=\"1\" class=\"dataframe\">\n",
       "  <thead>\n",
       "    <tr style=\"text-align: right;\">\n",
       "      <th></th>\n",
       "      <th>income</th>\n",
       "      <th>happiness</th>\n",
       "    </tr>\n",
       "  </thead>\n",
       "  <tbody>\n",
       "    <tr>\n",
       "      <th>count</th>\n",
       "      <td>498.000000</td>\n",
       "      <td>498.000000</td>\n",
       "    </tr>\n",
       "    <tr>\n",
       "      <th>mean</th>\n",
       "      <td>4.466902</td>\n",
       "      <td>3.392859</td>\n",
       "    </tr>\n",
       "    <tr>\n",
       "      <th>std</th>\n",
       "      <td>1.737527</td>\n",
       "      <td>1.432813</td>\n",
       "    </tr>\n",
       "    <tr>\n",
       "      <th>min</th>\n",
       "      <td>1.506275</td>\n",
       "      <td>0.266044</td>\n",
       "    </tr>\n",
       "    <tr>\n",
       "      <th>25%</th>\n",
       "      <td>3.006256</td>\n",
       "      <td>2.265864</td>\n",
       "    </tr>\n",
       "    <tr>\n",
       "      <th>50%</th>\n",
       "      <td>4.423710</td>\n",
       "      <td>3.472536</td>\n",
       "    </tr>\n",
       "    <tr>\n",
       "      <th>75%</th>\n",
       "      <td>5.991913</td>\n",
       "      <td>4.502621</td>\n",
       "    </tr>\n",
       "    <tr>\n",
       "      <th>max</th>\n",
       "      <td>7.481521</td>\n",
       "      <td>6.863388</td>\n",
       "    </tr>\n",
       "  </tbody>\n",
       "</table>\n",
       "</div>"
      ],
      "text/plain": [
       "           income   happiness\n",
       "count  498.000000  498.000000\n",
       "mean     4.466902    3.392859\n",
       "std      1.737527    1.432813\n",
       "min      1.506275    0.266044\n",
       "25%      3.006256    2.265864\n",
       "50%      4.423710    3.472536\n",
       "75%      5.991913    4.502621\n",
       "max      7.481521    6.863388"
      ]
     },
     "execution_count": 7,
     "metadata": {},
     "output_type": "execute_result"
    }
   ],
   "source": [
    "# 기초통계량 확인\n",
    "data.describe()"
   ]
  },
  {
   "cell_type": "code",
   "execution_count": 8,
   "metadata": {
    "id": "K09lnS9i4itn"
   },
   "outputs": [
    {
     "data": {
      "text/html": [
       "<div>\n",
       "<style scoped>\n",
       "    .dataframe tbody tr th:only-of-type {\n",
       "        vertical-align: middle;\n",
       "    }\n",
       "\n",
       "    .dataframe tbody tr th {\n",
       "        vertical-align: top;\n",
       "    }\n",
       "\n",
       "    .dataframe thead th {\n",
       "        text-align: right;\n",
       "    }\n",
       "</style>\n",
       "<table border=\"1\" class=\"dataframe\">\n",
       "  <thead>\n",
       "    <tr style=\"text-align: right;\">\n",
       "      <th></th>\n",
       "      <th>income</th>\n",
       "      <th>happiness</th>\n",
       "    </tr>\n",
       "  </thead>\n",
       "  <tbody>\n",
       "    <tr>\n",
       "      <th>income</th>\n",
       "      <td>1.000000</td>\n",
       "      <td>0.865634</td>\n",
       "    </tr>\n",
       "    <tr>\n",
       "      <th>happiness</th>\n",
       "      <td>0.865634</td>\n",
       "      <td>1.000000</td>\n",
       "    </tr>\n",
       "  </tbody>\n",
       "</table>\n",
       "</div>"
      ],
      "text/plain": [
       "             income  happiness\n",
       "income     1.000000   0.865634\n",
       "happiness  0.865634   1.000000"
      ]
     },
     "execution_count": 8,
     "metadata": {},
     "output_type": "execute_result"
    }
   ],
   "source": [
    "# 상관관계 확인\n",
    "data.corr()"
   ]
  },
  {
   "cell_type": "code",
   "execution_count": 26,
   "metadata": {},
   "outputs": [
    {
     "data": {
      "image/png": "[encoded data removed]",
      "text/plain": [
       "<Figure size 432x288 with 2 Axes>"
      ]
     },
     "metadata": {
      "image/png": {
       "height": 252,
       "width": 355
      },
      "needs_background": "light"
     },
     "output_type": "display_data"
    }
   ],
   "source": [
    "# 상관관계 시각화\n",
    "import seaborn as sns\n",
    "\n",
    "sns.heatmap(data.corr(), annot=True, cmap='Blues')\n",
    "plt.show()"
   ]
  },
  {
   "cell_type": "markdown",
   "metadata": {
    "id": "pbCps4sLnCQa"
   },
   "source": [
    "# 3.데이터 준비\n",
    "\n",
    "- **전처리** 과정을 통해 머신러닝 알고리즘에 사용할 수 있는 형태의 데이터를 준비합니다."
   ]
  },
  {
   "cell_type": "markdown",
   "metadata": {
    "id": "TWm85X1EnCQb"
   },
   "source": [
    "<img src = \"https://github.com/Jangrae/img/blob/master/code_13.png?raw=true\" width=700 align=\"left\"/>"
   ]
  },
  {
   "cell_type": "markdown",
   "metadata": {
    "id": "ku-wLJGX5TGS"
   },
   "source": [
    "**1) x, y 분리**"
   ]
  },
  {
   "cell_type": "code",
   "execution_count": 9,
   "metadata": {
    "id": "wwiBjMMknCQc"
   },
   "outputs": [],
   "source": [
    "# target 확인\n",
    "target = 'happiness'\n",
    "\n",
    "# 데이터 분리\n",
    "x = data.drop(target, axis=1)\n",
    "y = data[target]"
   ]
  },
  {
   "cell_type": "markdown",
   "metadata": {
    "id": "Q2pyQOxS5dFb"
   },
   "source": [
    "**2) 학습용, 평가용 데이터 분리**"
   ]
  },
  {
   "cell_type": "code",
   "execution_count": 10,
   "metadata": {
    "id": "FsW0b-pXnCQf"
   },
   "outputs": [],
   "source": [
    "# 모듈 불러오기\n",
    "from sklearn.model_selection import train_test_split\n",
    "\n",
    "# 7:3으로 분리\n",
    "x_train, x_test, y_train, y_test = train_test_split(x, y, test_size=0.3,\n",
    "                                                   random_state=2022)"
   ]
  },
  {
   "cell_type": "markdown",
   "metadata": {
    "id": "6SJRfUgvnCQf"
   },
   "source": [
    "# 4.모델링\n",
    "\n",
    "- 본격적으로 모델을 **선언**하고 **학습**하고 **평가**하는 과정을 진행합니다.\n",
    "- 우선 **회귀** 문제인지 **분류** 문제인지 명확히 구분합니다."
   ]
  },
  {
   "cell_type": "markdown",
   "metadata": {
    "id": "b1O1yhWbnCQg"
   },
   "source": [
    "<img src = \"https://github.com/Jangrae/img/blob/master/code_14.png?raw=true\" width=700 align=\"left\"/>"
   ]
  },
  {
   "cell_type": "markdown",
   "metadata": {
    "id": "pbPVWSOWPwV0"
   },
   "source": [
    "- 모델: LinearRegression"
   ]
  },
  {
   "cell_type": "code",
   "execution_count": 12,
   "metadata": {
    "id": "FfCQ83g4nCQg"
   },
   "outputs": [],
   "source": [
    "# 1단계: 불러오기\n",
    "from sklearn.linear_model import LinearRegression"
   ]
  },
  {
   "cell_type": "code",
   "execution_count": 13,
   "metadata": {
    "id": "aAMDmeufnCQh"
   },
   "outputs": [],
   "source": [
    "# 2단계: 선언하기\n",
    "model = LinearRegression()"
   ]
  },
  {
   "cell_type": "code",
   "execution_count": 14,
   "metadata": {
    "id": "bg--SLXRnCQi"
   },
   "outputs": [
    {
     "data": {
      "text/plain": [
       "LinearRegression()"
      ]
     },
     "execution_count": 14,
     "metadata": {},
     "output_type": "execute_result"
    }
   ],
   "source": [
    "# 3단계: 학습하기\n",
    "model.fit(x_train, y_train)"
   ]
  },
  {
   "cell_type": "code",
   "execution_count": 15,
   "metadata": {
    "id": "IruLu2IZnCQj"
   },
   "outputs": [],
   "source": [
    "# 4단계: 예측하기\n",
    "y_pred = model.predict(x_test)"
   ]
  },
  {
   "cell_type": "code",
   "execution_count": 24,
   "metadata": {},
   "outputs": [
    {
     "data": {
      "text/plain": [
       "array([3.50960469, 1.41503466, 3.90117033, 5.13545532, 2.86127444,\n",
       "       3.15636744, 3.68853952, 5.38147874, 0.68809058, 2.84781684,\n",
       "       2.67988732, 4.63344105, 2.1918337 , 4.28799968, 4.72098734,\n",
       "       5.59639827, 1.35737314, 5.13240147, 4.50344538, 2.57617631,\n",
       "       0.77128657, 2.29570014, 1.98180991, 2.96732327, 1.35331734,\n",
       "       1.61922613, 5.36244826, 5.02995166, 1.50221163, 2.96216821,\n",
       "       2.32169769, 2.35120247, 3.56790523, 4.60011476, 2.82119264,\n",
       "       1.90713683, 2.71449804, 4.12164775, 2.39167752, 2.15269843,\n",
       "       4.68281699, 4.28430556, 3.42691165, 3.70343793, 0.99291737,\n",
       "       3.99041589, 3.02691818, 3.17540615, 4.07820884, 3.80297363,\n",
       "       4.50115834, 3.69134819, 3.47649914, 3.94101932, 3.55460032,\n",
       "       3.05637665, 0.68584887, 3.51489178, 5.9142477 , 1.96563593,\n",
       "       4.31713316, 3.73794161, 2.97791672, 4.13077827, 3.45310274,\n",
       "       5.21140132, 0.43817157, 4.55321655, 5.68375056, 3.96103277,\n",
       "       4.83350643, 5.74373608, 5.23170297, 4.39159298, 0.96852733,\n",
       "       1.43859611, 3.45177254, 3.58138104, 5.27529415, 0.62894206,\n",
       "       1.43787672, 4.66028996, 2.00392609, 2.40008729, 2.24674571,\n",
       "       3.09216465, 6.00498748, 1.85754189, 4.15988714, 2.25092941,\n",
       "       4.01761121, 4.66126121, 2.64690454, 3.03681994, 4.2535013 ,\n",
       "       3.72209764, 2.79974749, 1.52956094, 5.91028488, 1.22629813,\n",
       "       4.16910076, 4.80815043, 4.90968847, 3.80297067, 2.79816073,\n",
       "       1.22877318, 5.15933124, 4.33757145, 4.65874268, 3.49231019,\n",
       "       2.45320906, 5.96342209, 1.24578594, 0.65424215, 2.53500211,\n",
       "       4.36170927, 1.68099713, 2.15573363, 2.11513648, 3.19299181,\n",
       "       2.15584332, 2.48060647, 2.76852313, 5.60796663, 4.23499121,\n",
       "       6.1604341 , 3.51517918, 1.7987183 , 4.93240998, 5.92334607,\n",
       "       2.5725982 , 3.22747217, 2.73496006, 4.48670367, 2.10055249,\n",
       "       2.72771571, 2.43509486, 3.83557765, 2.92368387, 1.38404411,\n",
       "       4.57685653, 4.03086494, 3.61905549, 0.54619018, 1.14529581,\n",
       "       2.31298805, 1.4787872 , 1.20078552, 2.17632214, 3.98019535])"
      ]
     },
     "execution_count": 24,
     "metadata": {},
     "output_type": "execute_result"
    }
   ],
   "source": [
    "# 실제값(Actual)\n",
    "y_test.values"
   ]
  },
  {
   "cell_type": "code",
   "execution_count": 25,
   "metadata": {},
   "outputs": [
    {
     "data": {
      "text/plain": [
       "array([1.82678376, 2.60606979, 4.2922346 , 4.67198332, 1.75689115,\n",
       "       2.96670751, 4.26014062, 5.00254419, 1.29553139, 1.66219973,\n",
       "       2.47653673, 4.53929477, 1.65542533, 4.05216334, 5.33692423,\n",
       "       5.36787588, 1.50723559, 5.10345565, 5.56132786, 2.82314254,\n",
       "       1.74180398, 3.21473611, 1.29971517, 1.62733529, 1.43195746,\n",
       "       2.05947983, 5.22880917, 5.35338359, 1.2964439 , 1.82058814,\n",
       "       2.92770999, 1.99854352, 3.67828706, 3.89130517, 2.1007969 ,\n",
       "       3.41358366, 2.64339584, 5.28471546, 2.84763923, 2.04032607,\n",
       "       5.40039816, 4.73326058, 4.83505695, 4.02150143, 1.73651398,\n",
       "       3.55973488, 2.69953879, 3.5111682 , 4.03095699, 2.78649893,\n",
       "       4.07769917, 3.25432184, 2.8140888 , 3.83104938, 3.61200028,\n",
       "       2.63566152, 1.65567764, 3.9932696 , 5.099947  , 2.40268306,\n",
       "       4.86630182, 3.51629233, 2.96773221, 3.73044496, 2.48890523,\n",
       "       5.1382282 , 1.5172833 , 4.28070085, 4.94132844, 1.87316051,\n",
       "       4.109645  , 4.29319289, 5.36688221, 3.35724158, 1.28464062,\n",
       "       1.85774931, 3.77024487, 3.3621642 , 4.56593416, 1.65539674,\n",
       "       1.8542406 , 4.11758603, 1.4452988 , 3.03992451, 2.92253934,\n",
       "       3.72273382, 5.443557  , 1.90079224, 4.38923813, 2.75516697,\n",
       "       4.11143765, 4.64483666, 2.13356213, 2.82213443, 3.95683547,\n",
       "       3.42744666, 2.97875875, 1.97907245, 5.05783693, 1.73761735,\n",
       "       5.18994949, 4.23674125, 5.53259091, 2.64518101, 2.52797303,\n",
       "       2.21277655, 5.10666082, 5.09697678, 4.27573883, 4.82723707,\n",
       "       2.22604756, 5.55017904, 2.42982833, 1.50026563, 2.67026516,\n",
       "       4.7656553 , 1.31460807, 1.9720505 , 2.64368687, 3.54135409,\n",
       "       2.80018741, 2.15280565, 2.68994271, 5.35664825, 4.70361907,\n",
       "       5.34286234, 2.59153637, 1.34310618, 4.50463136, 5.45050989,\n",
       "       2.58513018, 3.00077861, 1.69441068, 5.11518365, 1.91075967,\n",
       "       4.11361349, 2.95193051, 3.66940189, 2.26847838, 2.1574274 ,\n",
       "       4.43200536, 2.88228793, 3.07757346, 1.38517384, 1.45100694,\n",
       "       1.88542004, 1.67606083, 1.91482123, 1.88051531, 4.32386871])"
      ]
     },
     "execution_count": 25,
     "metadata": {},
     "output_type": "execute_result"
    }
   ],
   "source": [
    "# 예측값(Predicted)\n",
    "y_pred"
   ]
  },
  {
   "cell_type": "code",
   "execution_count": 23,
   "metadata": {},
   "outputs": [
    {
     "data": {
      "image/png": "[encoded data removed]",
      "text/plain": [
       "<Figure size 432x288 with 1 Axes>"
      ]
     },
     "metadata": {
      "image/png": {
       "height": 248,
       "width": 362
      },
      "needs_background": "light"
     },
     "output_type": "display_data"
    }
   ],
   "source": [
    "plt.plot(y_test.values, label='Actual')\n",
    "plt.plot(y_pred, label='Predicted')\n",
    "plt.legend()\n",
    "plt.show()"
   ]
  },
  {
   "cell_type": "markdown",
   "metadata": {
    "id": "fZHgxm210h7n"
   },
   "source": [
    "**1) MAE(Mean Absolute Error)**"
   ]
  },
  {
   "cell_type": "code",
   "execution_count": 16,
   "metadata": {
    "id": "HpAM55uT0h7n"
   },
   "outputs": [
    {
     "data": {
      "text/plain": [
       "0.5466885866485439"
      ]
     },
     "execution_count": 16,
     "metadata": {},
     "output_type": "execute_result"
    }
   ],
   "source": [
    "# 모듈 불러오기\n",
    "from sklearn.metrics import mean_absolute_error\n",
    "\n",
    "# 성능 평가\n",
    "mean_absolute_error(y_test, y_pred)"
   ]
  },
  {
   "cell_type": "markdown",
   "metadata": {
    "id": "4yUxPquk0h7n"
   },
   "source": [
    "**2) MSE(Mean Squred Error)**"
   ]
  },
  {
   "cell_type": "code",
   "execution_count": 17,
   "metadata": {
    "id": "nCZiofNV0h7o"
   },
   "outputs": [
    {
     "data": {
      "text/plain": [
       "0.45061240324267904"
      ]
     },
     "execution_count": 17,
     "metadata": {},
     "output_type": "execute_result"
    }
   ],
   "source": [
    "# 모듈 불러오기\n",
    "from sklearn.metrics import mean_squared_error\n",
    "\n",
    "# 성능 평가\n",
    "mean_squared_error(y_test, y_pred)"
   ]
  },
  {
   "cell_type": "markdown",
   "metadata": {
    "id": "yPe26nt10h7o"
   },
   "source": [
    "**3) RMSE(Root Mean Squred Error)**"
   ]
  },
  {
   "cell_type": "code",
   "execution_count": 18,
   "metadata": {
    "id": "zZc-7-iH0h7p"
   },
   "outputs": [
    {
     "data": {
      "text/plain": [
       "0.671276696484154"
      ]
     },
     "execution_count": 18,
     "metadata": {},
     "output_type": "execute_result"
    }
   ],
   "source": [
    "# 모듈 불러오기\n",
    "\n",
    "\n",
    "# 성능 평가\n",
    "mean_squared_error(y_test, y_pred)**0.5"
   ]
  },
  {
   "cell_type": "markdown",
   "metadata": {
    "id": "Dofpxznx0h7p"
   },
   "source": [
    "**4) MAPE(Mean Absolute Percentage Error)**"
   ]
  },
  {
   "cell_type": "code",
   "execution_count": 19,
   "metadata": {
    "id": "3m6dcNz-0h7p"
   },
   "outputs": [
    {
     "data": {
      "text/plain": [
       "0.24986813057928706"
      ]
     },
     "execution_count": 19,
     "metadata": {},
     "output_type": "execute_result"
    }
   ],
   "source": [
    "# 모듈 불러오기\n",
    "from sklearn.metrics import mean_absolute_percentage_error\n",
    "\n",
    "# 성능 평가\n",
    "mean_absolute_percentage_error(y_test, y_pred)"
   ]
  },
  {
   "cell_type": "markdown",
   "metadata": {
    "id": "P9Rq86Bu0h7q"
   },
   "source": [
    "**5) R2-Score**"
   ]
  },
  {
   "cell_type": "code",
   "execution_count": 20,
   "metadata": {
    "id": "i8Vkxgkl0h7q"
   },
   "outputs": [
    {
     "data": {
      "text/plain": [
       "0.7756709291514665"
      ]
     },
     "execution_count": 20,
     "metadata": {},
     "output_type": "execute_result"
    }
   ],
   "source": [
    "# 모듈 불러오기\n",
    "from sklearn.metrics import r2_score\n",
    "\n",
    "# 성능 평가\n",
    "r2_score(y_test, y_pred)"
   ]
  }
 ],
 "metadata": {
  "colab": {
   "collapsed_sections": [],
   "name": "실습02_01_성능평가(Happy).ipynb",
   "provenance": []
  },
  "kernelspec": {
   "display_name": "Python 3",
   "language": "python",
   "name": "python3"
  },
  "language_info": {
   "codemirror_mode": {
    "name": "ipython",
    "version": 3
   },
   "file_extension": ".py",
   "mimetype": "text/x-python",
   "name": "python",
   "nbconvert_exporter": "python",
   "pygments_lexer": "ipython3",
   "version": "3.8.8"
  }
 },
 "nbformat": 4,
 "nbformat_minor": 1
}
