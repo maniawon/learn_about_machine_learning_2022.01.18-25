{
 "cells": [
  {
   "cell_type": "markdown",
   "metadata": {
    "id": "y1J78TFSRrSA"
   },
   "source": [
    "<center><img src='https://raw.githubusercontent.com/Jangrae/img/master/ml_python.png' width=600/></center>"
   ]
  },
  {
   "cell_type": "markdown",
   "metadata": {
    "id": "30WC6LUaHGdk"
   },
   "source": [
    "# 실습 내용\n",
    "\n",
    "- Random Search로 KNN 알고리즘 모델을 튜닝합니다."
   ]
  },
  {
   "cell_type": "markdown",
   "metadata": {
    "id": "WW5MoKVRHuE8"
   },
   "source": [
    "# 1.환경 준비\n",
    "\n",
    "- 기본 라이브러리와 대상 데이터를 가져와 이후 과정을 준비합니다."
   ]
  },
  {
   "cell_type": "code",
   "execution_count": 61,
   "metadata": {
    "id": "BzJjQX4lNdJr",
    "scrolled": true
   },
   "outputs": [],
   "source": [
    "# 라이브러리 불러오기\n",
    "import numpy as np\n",
    "import pandas as pd\n",
    "import matplotlib.pyplot as plt"
   ]
  },
  {
   "cell_type": "code",
   "execution_count": 62,
   "metadata": {
    "id": "1yPDiJ4NNdJs"
   },
   "outputs": [],
   "source": [
    "# 데이터 읽어오기\n",
    "path = 'https://raw.githubusercontent.com/jangrae/csv/master/boston.csv'\n",
    "data = pd.read_csv(path)"
   ]
  },
  {
   "cell_type": "markdown",
   "metadata": {
    "id": "ZJOddHq2zfcU"
   },
   "source": [
    "# 2.데이터 이해\n",
    "\n",
    "- 분석할 데이터를 충분히 이해할 수 있도록 다양한 탐색 과정을 수행합니다."
   ]
  },
  {
   "cell_type": "code",
   "execution_count": 63,
   "metadata": {
    "id": "Wzs1nS348uwE"
   },
   "outputs": [
    {
     "data": {
      "text/html": [
       "<div>\n",
       "<style scoped>\n",
       "    .dataframe tbody tr th:only-of-type {\n",
       "        vertical-align: middle;\n",
       "    }\n",
       "\n",
       "    .dataframe tbody tr th {\n",
       "        vertical-align: top;\n",
       "    }\n",
       "\n",
       "    .dataframe thead th {\n",
       "        text-align: right;\n",
       "    }\n",
       "</style>\n",
       "<table border=\"1\" class=\"dataframe\">\n",
       "  <thead>\n",
       "    <tr style=\"text-align: right;\">\n",
       "      <th></th>\n",
       "      <th>crim</th>\n",
       "      <th>zn</th>\n",
       "      <th>indus</th>\n",
       "      <th>chas</th>\n",
       "      <th>nox</th>\n",
       "      <th>rm</th>\n",
       "      <th>age</th>\n",
       "      <th>dis</th>\n",
       "      <th>rad</th>\n",
       "      <th>tax</th>\n",
       "      <th>ptratio</th>\n",
       "      <th>black</th>\n",
       "      <th>lstat</th>\n",
       "      <th>medv</th>\n",
       "    </tr>\n",
       "  </thead>\n",
       "  <tbody>\n",
       "    <tr>\n",
       "      <th>0</th>\n",
       "      <td>0.00632</td>\n",
       "      <td>18.0</td>\n",
       "      <td>2.31</td>\n",
       "      <td>0</td>\n",
       "      <td>0.538</td>\n",
       "      <td>6.575</td>\n",
       "      <td>65.2</td>\n",
       "      <td>4.0900</td>\n",
       "      <td>1</td>\n",
       "      <td>296</td>\n",
       "      <td>15.3</td>\n",
       "      <td>396.90</td>\n",
       "      <td>4.98</td>\n",
       "      <td>24.0</td>\n",
       "    </tr>\n",
       "    <tr>\n",
       "      <th>1</th>\n",
       "      <td>0.02731</td>\n",
       "      <td>0.0</td>\n",
       "      <td>7.07</td>\n",
       "      <td>0</td>\n",
       "      <td>0.469</td>\n",
       "      <td>6.421</td>\n",
       "      <td>78.9</td>\n",
       "      <td>4.9671</td>\n",
       "      <td>2</td>\n",
       "      <td>242</td>\n",
       "      <td>17.8</td>\n",
       "      <td>396.90</td>\n",
       "      <td>9.14</td>\n",
       "      <td>21.6</td>\n",
       "    </tr>\n",
       "    <tr>\n",
       "      <th>2</th>\n",
       "      <td>0.02729</td>\n",
       "      <td>0.0</td>\n",
       "      <td>7.07</td>\n",
       "      <td>0</td>\n",
       "      <td>0.469</td>\n",
       "      <td>7.185</td>\n",
       "      <td>61.1</td>\n",
       "      <td>4.9671</td>\n",
       "      <td>2</td>\n",
       "      <td>242</td>\n",
       "      <td>17.8</td>\n",
       "      <td>392.83</td>\n",
       "      <td>4.03</td>\n",
       "      <td>34.7</td>\n",
       "    </tr>\n",
       "    <tr>\n",
       "      <th>3</th>\n",
       "      <td>0.03237</td>\n",
       "      <td>0.0</td>\n",
       "      <td>2.18</td>\n",
       "      <td>0</td>\n",
       "      <td>0.458</td>\n",
       "      <td>6.998</td>\n",
       "      <td>45.8</td>\n",
       "      <td>6.0622</td>\n",
       "      <td>3</td>\n",
       "      <td>222</td>\n",
       "      <td>18.7</td>\n",
       "      <td>394.63</td>\n",
       "      <td>2.94</td>\n",
       "      <td>33.4</td>\n",
       "    </tr>\n",
       "    <tr>\n",
       "      <th>4</th>\n",
       "      <td>0.06905</td>\n",
       "      <td>0.0</td>\n",
       "      <td>2.18</td>\n",
       "      <td>0</td>\n",
       "      <td>0.458</td>\n",
       "      <td>7.147</td>\n",
       "      <td>54.2</td>\n",
       "      <td>6.0622</td>\n",
       "      <td>3</td>\n",
       "      <td>222</td>\n",
       "      <td>18.7</td>\n",
       "      <td>396.90</td>\n",
       "      <td>5.33</td>\n",
       "      <td>36.2</td>\n",
       "    </tr>\n",
       "  </tbody>\n",
       "</table>\n",
       "</div>"
      ],
      "text/plain": [
       "      crim    zn  indus  chas    nox     rm   age     dis  rad  tax  ptratio  \\\n",
       "0  0.00632  18.0   2.31     0  0.538  6.575  65.2  4.0900    1  296     15.3   \n",
       "1  0.02731   0.0   7.07     0  0.469  6.421  78.9  4.9671    2  242     17.8   \n",
       "2  0.02729   0.0   7.07     0  0.469  7.185  61.1  4.9671    2  242     17.8   \n",
       "3  0.03237   0.0   2.18     0  0.458  6.998  45.8  6.0622    3  222     18.7   \n",
       "4  0.06905   0.0   2.18     0  0.458  7.147  54.2  6.0622    3  222     18.7   \n",
       "\n",
       "    black  lstat  medv  \n",
       "0  396.90   4.98  24.0  \n",
       "1  396.90   9.14  21.6  \n",
       "2  392.83   4.03  34.7  \n",
       "3  394.63   2.94  33.4  \n",
       "4  396.90   5.33  36.2  "
      ]
     },
     "execution_count": 63,
     "metadata": {},
     "output_type": "execute_result"
    }
   ],
   "source": [
    "# 상위 몇 개 행 확인\n",
    "data.head()"
   ]
  },
  {
   "cell_type": "code",
   "execution_count": 64,
   "metadata": {
    "id": "LhAk04Uy4Occ"
   },
   "outputs": [
    {
     "data": {
      "text/html": [
       "<div>\n",
       "<style scoped>\n",
       "    .dataframe tbody tr th:only-of-type {\n",
       "        vertical-align: middle;\n",
       "    }\n",
       "\n",
       "    .dataframe tbody tr th {\n",
       "        vertical-align: top;\n",
       "    }\n",
       "\n",
       "    .dataframe thead th {\n",
       "        text-align: right;\n",
       "    }\n",
       "</style>\n",
       "<table border=\"1\" class=\"dataframe\">\n",
       "  <thead>\n",
       "    <tr style=\"text-align: right;\">\n",
       "      <th></th>\n",
       "      <th>crim</th>\n",
       "      <th>zn</th>\n",
       "      <th>indus</th>\n",
       "      <th>chas</th>\n",
       "      <th>nox</th>\n",
       "      <th>rm</th>\n",
       "      <th>age</th>\n",
       "      <th>dis</th>\n",
       "      <th>rad</th>\n",
       "      <th>tax</th>\n",
       "      <th>ptratio</th>\n",
       "      <th>black</th>\n",
       "      <th>lstat</th>\n",
       "      <th>medv</th>\n",
       "    </tr>\n",
       "  </thead>\n",
       "  <tbody>\n",
       "    <tr>\n",
       "      <th>count</th>\n",
       "      <td>506.000000</td>\n",
       "      <td>506.000000</td>\n",
       "      <td>506.000000</td>\n",
       "      <td>506.000000</td>\n",
       "      <td>506.000000</td>\n",
       "      <td>506.000000</td>\n",
       "      <td>506.000000</td>\n",
       "      <td>506.000000</td>\n",
       "      <td>506.000000</td>\n",
       "      <td>506.000000</td>\n",
       "      <td>506.000000</td>\n",
       "      <td>506.000000</td>\n",
       "      <td>506.000000</td>\n",
       "      <td>506.000000</td>\n",
       "    </tr>\n",
       "    <tr>\n",
       "      <th>mean</th>\n",
       "      <td>3.613524</td>\n",
       "      <td>11.363636</td>\n",
       "      <td>11.136779</td>\n",
       "      <td>0.069170</td>\n",
       "      <td>0.554695</td>\n",
       "      <td>6.284634</td>\n",
       "      <td>68.574901</td>\n",
       "      <td>3.795043</td>\n",
       "      <td>9.549407</td>\n",
       "      <td>408.237154</td>\n",
       "      <td>18.455534</td>\n",
       "      <td>356.674032</td>\n",
       "      <td>12.653063</td>\n",
       "      <td>22.532806</td>\n",
       "    </tr>\n",
       "    <tr>\n",
       "      <th>std</th>\n",
       "      <td>8.601545</td>\n",
       "      <td>23.322453</td>\n",
       "      <td>6.860353</td>\n",
       "      <td>0.253994</td>\n",
       "      <td>0.115878</td>\n",
       "      <td>0.702617</td>\n",
       "      <td>28.148861</td>\n",
       "      <td>2.105710</td>\n",
       "      <td>8.707259</td>\n",
       "      <td>168.537116</td>\n",
       "      <td>2.164946</td>\n",
       "      <td>91.294864</td>\n",
       "      <td>7.141062</td>\n",
       "      <td>9.197104</td>\n",
       "    </tr>\n",
       "    <tr>\n",
       "      <th>min</th>\n",
       "      <td>0.006320</td>\n",
       "      <td>0.000000</td>\n",
       "      <td>0.460000</td>\n",
       "      <td>0.000000</td>\n",
       "      <td>0.385000</td>\n",
       "      <td>3.561000</td>\n",
       "      <td>2.900000</td>\n",
       "      <td>1.129600</td>\n",
       "      <td>1.000000</td>\n",
       "      <td>187.000000</td>\n",
       "      <td>12.600000</td>\n",
       "      <td>0.320000</td>\n",
       "      <td>1.730000</td>\n",
       "      <td>5.000000</td>\n",
       "    </tr>\n",
       "    <tr>\n",
       "      <th>25%</th>\n",
       "      <td>0.082045</td>\n",
       "      <td>0.000000</td>\n",
       "      <td>5.190000</td>\n",
       "      <td>0.000000</td>\n",
       "      <td>0.449000</td>\n",
       "      <td>5.885500</td>\n",
       "      <td>45.025000</td>\n",
       "      <td>2.100175</td>\n",
       "      <td>4.000000</td>\n",
       "      <td>279.000000</td>\n",
       "      <td>17.400000</td>\n",
       "      <td>375.377500</td>\n",
       "      <td>6.950000</td>\n",
       "      <td>17.025000</td>\n",
       "    </tr>\n",
       "    <tr>\n",
       "      <th>50%</th>\n",
       "      <td>0.256510</td>\n",
       "      <td>0.000000</td>\n",
       "      <td>9.690000</td>\n",
       "      <td>0.000000</td>\n",
       "      <td>0.538000</td>\n",
       "      <td>6.208500</td>\n",
       "      <td>77.500000</td>\n",
       "      <td>3.207450</td>\n",
       "      <td>5.000000</td>\n",
       "      <td>330.000000</td>\n",
       "      <td>19.050000</td>\n",
       "      <td>391.440000</td>\n",
       "      <td>11.360000</td>\n",
       "      <td>21.200000</td>\n",
       "    </tr>\n",
       "    <tr>\n",
       "      <th>75%</th>\n",
       "      <td>3.677083</td>\n",
       "      <td>12.500000</td>\n",
       "      <td>18.100000</td>\n",
       "      <td>0.000000</td>\n",
       "      <td>0.624000</td>\n",
       "      <td>6.623500</td>\n",
       "      <td>94.075000</td>\n",
       "      <td>5.188425</td>\n",
       "      <td>24.000000</td>\n",
       "      <td>666.000000</td>\n",
       "      <td>20.200000</td>\n",
       "      <td>396.225000</td>\n",
       "      <td>16.955000</td>\n",
       "      <td>25.000000</td>\n",
       "    </tr>\n",
       "    <tr>\n",
       "      <th>max</th>\n",
       "      <td>88.976200</td>\n",
       "      <td>100.000000</td>\n",
       "      <td>27.740000</td>\n",
       "      <td>1.000000</td>\n",
       "      <td>0.871000</td>\n",
       "      <td>8.780000</td>\n",
       "      <td>100.000000</td>\n",
       "      <td>12.126500</td>\n",
       "      <td>24.000000</td>\n",
       "      <td>711.000000</td>\n",
       "      <td>22.000000</td>\n",
       "      <td>396.900000</td>\n",
       "      <td>37.970000</td>\n",
       "      <td>50.000000</td>\n",
       "    </tr>\n",
       "  </tbody>\n",
       "</table>\n",
       "</div>"
      ],
      "text/plain": [
       "             crim          zn       indus        chas         nox          rm  \\\n",
       "count  506.000000  506.000000  506.000000  506.000000  506.000000  506.000000   \n",
       "mean     3.613524   11.363636   11.136779    0.069170    0.554695    6.284634   \n",
       "std      8.601545   23.322453    6.860353    0.253994    0.115878    0.702617   \n",
       "min      0.006320    0.000000    0.460000    0.000000    0.385000    3.561000   \n",
       "25%      0.082045    0.000000    5.190000    0.000000    0.449000    5.885500   \n",
       "50%      0.256510    0.000000    9.690000    0.000000    0.538000    6.208500   \n",
       "75%      3.677083   12.500000   18.100000    0.000000    0.624000    6.623500   \n",
       "max     88.976200  100.000000   27.740000    1.000000    0.871000    8.780000   \n",
       "\n",
       "              age         dis         rad         tax     ptratio       black  \\\n",
       "count  506.000000  506.000000  506.000000  506.000000  506.000000  506.000000   \n",
       "mean    68.574901    3.795043    9.549407  408.237154   18.455534  356.674032   \n",
       "std     28.148861    2.105710    8.707259  168.537116    2.164946   91.294864   \n",
       "min      2.900000    1.129600    1.000000  187.000000   12.600000    0.320000   \n",
       "25%     45.025000    2.100175    4.000000  279.000000   17.400000  375.377500   \n",
       "50%     77.500000    3.207450    5.000000  330.000000   19.050000  391.440000   \n",
       "75%     94.075000    5.188425   24.000000  666.000000   20.200000  396.225000   \n",
       "max    100.000000   12.126500   24.000000  711.000000   22.000000  396.900000   \n",
       "\n",
       "            lstat        medv  \n",
       "count  506.000000  506.000000  \n",
       "mean    12.653063   22.532806  \n",
       "std      7.141062    9.197104  \n",
       "min      1.730000    5.000000  \n",
       "25%      6.950000   17.025000  \n",
       "50%     11.360000   21.200000  \n",
       "75%     16.955000   25.000000  \n",
       "max     37.970000   50.000000  "
      ]
     },
     "execution_count": 64,
     "metadata": {},
     "output_type": "execute_result"
    }
   ],
   "source": [
    "# 기초통계량 확인\n",
    "data.describe()"
   ]
  },
  {
   "cell_type": "markdown",
   "metadata": {
    "id": "wW0d0eGmCYJM"
   },
   "source": [
    "# 3.데이터 준비\n",
    "\n",
    "- 전처리 과정을 통해 머신러닝 알고리즘에 사용할 수 있는 형태의 데이터를 준비합니다."
   ]
  },
  {
   "cell_type": "markdown",
   "metadata": {
    "id": "BE_0rwxPdErC"
   },
   "source": [
    "**1) x, y 분리**"
   ]
  },
  {
   "cell_type": "code",
   "execution_count": 65,
   "metadata": {
    "id": "Ops0CDL2dEDe"
   },
   "outputs": [],
   "source": [
    "# target 확인\n",
    "target = 'medv'\n",
    "\n",
    "# 데이터 분리\n",
    "x = data.drop(target, axis=1)\n",
    "y = data[target]"
   ]
  },
  {
   "cell_type": "markdown",
   "metadata": {
    "id": "JjjZSPSuOwRP"
   },
   "source": [
    "**2) 정규화**"
   ]
  },
  {
   "cell_type": "code",
   "execution_count": 66,
   "metadata": {
    "id": "dX6C8Fd7O41y"
   },
   "outputs": [],
   "source": [
    "# 정규화\n",
    "x = (x - x.min()) / (x.max() - x.min())"
   ]
  },
  {
   "cell_type": "markdown",
   "metadata": {
    "id": "Rsd5dNuLBHn7"
   },
   "source": [
    "**3) 학습용, 평가용 데이터 분리**"
   ]
  },
  {
   "cell_type": "code",
   "execution_count": 67,
   "metadata": {
    "id": "uHnuBUJu8uwz"
   },
   "outputs": [],
   "source": [
    "# 모듈 불러오기\n",
    "from sklearn.model_selection import train_test_split\n",
    "\n",
    "# 데이터 분리\n",
    "x_train, x_test, y_train, y_test = train_test_split(x, y, test_size=0.3, \n",
    "                                                    random_state=2022)"
   ]
  },
  {
   "cell_type": "markdown",
   "metadata": {
    "id": "-GnkpAlFlezD"
   },
   "source": [
    "# 4.모델링\n",
    "\n",
    "- 본격적으로 모델을 선언하고 학습하고 평가하는 과정을 진행합니다.\n",
    "- 모델 선언시 n_neighbors=5를 지정합니다."
   ]
  },
  {
   "cell_type": "code",
   "execution_count": 68,
   "metadata": {
    "id": "46LrmqgIqgN2"
   },
   "outputs": [],
   "source": [
    "# 불러오기\n",
    "from sklearn.neighbors import KNeighborsRegressor\n",
    "from sklearn.metrics import mean_absolute_error, r2_score"
   ]
  },
  {
   "cell_type": "code",
   "execution_count": 69,
   "metadata": {
    "id": "pZ0QQiliqgN3"
   },
   "outputs": [],
   "source": [
    "# 선언하기\n",
    "model = KNeighborsRegressor(n_neighbors=5)"
   ]
  },
  {
   "cell_type": "code",
   "execution_count": 70,
   "metadata": {
    "id": "4FGBNX_RqgN4"
   },
   "outputs": [
    {
     "data": {
      "text/plain": [
       "KNeighborsRegressor()"
      ]
     },
     "execution_count": 70,
     "metadata": {},
     "output_type": "execute_result"
    }
   ],
   "source": [
    "# 학습하기\n",
    "model.fit(x_train, y_train)"
   ]
  },
  {
   "cell_type": "code",
   "execution_count": 71,
   "metadata": {
    "id": "df-rQHcwqgN4"
   },
   "outputs": [],
   "source": [
    "# 예측하기\n",
    "y_pred = model.predict(x_test)"
   ]
  },
  {
   "cell_type": "code",
   "execution_count": 72,
   "metadata": {
    "id": "9owqlHRiqgN5"
   },
   "outputs": [
    {
     "name": "stdout",
     "output_type": "stream",
     "text": [
      "MAE: 3.0527631578947365\n",
      "R2-Score: 0.7860470863341451\n"
     ]
    }
   ],
   "source": [
    "# 평가하기\n",
    "print('MAE:', mean_absolute_error(y_test, y_pred))\n",
    "print('R2-Score:', r2_score(y_test, y_pred))"
   ]
  },
  {
   "cell_type": "code",
   "execution_count": 73,
   "metadata": {},
   "outputs": [
    {
     "data": {
      "text/plain": [
       "{'algorithm': 'auto',\n",
       " 'leaf_size': 30,\n",
       " 'metric': 'minkowski',\n",
       " 'metric_params': None,\n",
       " 'n_jobs': None,\n",
       " 'n_neighbors': 5,\n",
       " 'p': 2,\n",
       " 'weights': 'uniform'}"
      ]
     },
     "execution_count": 73,
     "metadata": {},
     "output_type": "execute_result"
    }
   ],
   "source": [
    "# 파라미터 확인\n",
    "model.get_params()"
   ]
  },
  {
   "cell_type": "markdown",
   "metadata": {
    "id": "89nQo--3NaTH"
   },
   "source": [
    "# 5.성능 튜닝\n",
    "\n",
    "\n",
    "- Random Search로 튜닝을 진행합니다. "
   ]
  },
  {
   "cell_type": "markdown",
   "metadata": {
    "id": "BYr1vtpd8uw4"
   },
   "source": [
    "**1) 모델링 & 튜닝**"
   ]
  },
  {
   "cell_type": "code",
   "execution_count": 74,
   "metadata": {},
   "outputs": [
    {
     "data": {
      "text/plain": [
       "[3,\n",
       " 4,\n",
       " 5,\n",
       " 6,\n",
       " 7,\n",
       " 8,\n",
       " 9,\n",
       " 10,\n",
       " 11,\n",
       " 12,\n",
       " 13,\n",
       " 14,\n",
       " 15,\n",
       " 16,\n",
       " 17,\n",
       " 18,\n",
       " 19,\n",
       " 20,\n",
       " 21,\n",
       " 22,\n",
       " 23,\n",
       " 24,\n",
       " 25,\n",
       " 26,\n",
       " 27,\n",
       " 28,\n",
       " 29,\n",
       " 30,\n",
       " 31,\n",
       " 32,\n",
       " 33,\n",
       " 34,\n",
       " 35,\n",
       " 36,\n",
       " 37,\n",
       " 38,\n",
       " 39,\n",
       " 40,\n",
       " 41,\n",
       " 42,\n",
       " 43,\n",
       " 44,\n",
       " 45,\n",
       " 46,\n",
       " 47,\n",
       " 48,\n",
       " 49,\n",
       " 50]"
      ]
     },
     "execution_count": 74,
     "metadata": {},
     "output_type": "execute_result"
    }
   ],
   "source": [
    "a = list(range(3, 51)) # [3, 4, 5, ... , 50]\n",
    "a"
   ]
  },
  {
   "cell_type": "code",
   "execution_count": 75,
   "metadata": {
    "id": "uw_0xzoRqSWa"
   },
   "outputs": [
    {
     "data": {
      "text/plain": [
       "{'n_neighbors': range(3, 51)}"
      ]
     },
     "execution_count": 75,
     "metadata": {},
     "output_type": "execute_result"
    }
   ],
   "source": [
    "# 파라미터 선언\n",
    "  # n_neighbors: range(3, 51)\n",
    "rand_param = {'n_neighbors':range(3, 51)}\n",
    "\n",
    "# 확인\n",
    "rand_param"
   ]
  },
  {
   "cell_type": "code",
   "execution_count": 76,
   "metadata": {
    "id": "ajzFNkf6qwRf"
   },
   "outputs": [],
   "source": [
    "# 불러오기\n",
    "from sklearn.neighbors import KNeighborsRegressor\n",
    "from sklearn.model_selection import RandomizedSearchCV"
   ]
  },
  {
   "cell_type": "code",
   "execution_count": 77,
   "metadata": {
    "id": "aycGcFmIq2aq"
   },
   "outputs": [],
   "source": [
    "# 선언하기\n",
    "model_knn = KNeighborsRegressor()\n",
    "\n",
    "# Random Search 선언\n",
    "  # cv=10\n",
    "  # n_iter=30\n",
    "  # scoring='r2'\n",
    "model = RandomizedSearchCV(model_knn, # 기본 모델 이름\n",
    "                          rand_param, # 앞에서 선언한 튜닝용 파라미터 변수\n",
    "                          cv=10,      # K-Fold Cross Validation(default=5)\n",
    "                          n_iter=30,  # Random하게 시도할 횟수(default=10)\n",
    "                          scoring='r2', # 평가 방법\n",
    "                          n_jobs=-1) # cpu성능 좋아지게 병렬처리"
   ]
  },
  {
   "cell_type": "code",
   "execution_count": 78,
   "metadata": {
    "id": "LzX7OxZnoatr"
   },
   "outputs": [
    {
     "data": {
      "text/plain": [
       "RandomizedSearchCV(cv=10, estimator=KNeighborsRegressor(), n_iter=30, n_jobs=-1,\n",
       "                   param_distributions={'n_neighbors': range(3, 51)},\n",
       "                   scoring='r2')"
      ]
     },
     "execution_count": 78,
     "metadata": {},
     "output_type": "execute_result"
    }
   ],
   "source": [
    "# 학습하기\n",
    "model.fit(x_train, y_train)"
   ]
  },
  {
   "cell_type": "markdown",
   "metadata": {
    "id": "vDRU_TFkHG6D"
   },
   "source": [
    "**2) 결과 확인**"
   ]
  },
  {
   "cell_type": "code",
   "execution_count": 79,
   "metadata": {},
   "outputs": [
    {
     "data": {
      "text/plain": [
       "{'mean_fit_time': array([0.00793951, 0.0069124 , 0.00856915, 0.00574813, 0.00571117,\n",
       "        0.00631735, 0.00587482, 0.00600266, 0.00598829, 0.00509896,\n",
       "        0.00499678, 0.00514708, 0.00569322, 0.00710931, 0.00613449,\n",
       "        0.00609691, 0.00612512, 0.00693393, 0.00772812, 0.00563509,\n",
       "        0.00600319, 0.00597544, 0.00638945, 0.00616333, 0.00565495,\n",
       "        0.00612073, 0.0061141 , 0.00595298, 0.00644941, 0.00562882]),\n",
       " 'std_fit_time': array([0.00203704, 0.00154384, 0.00519421, 0.00076332, 0.00070776,\n",
       "        0.00181736, 0.00096172, 0.00097066, 0.00107548, 0.00043271,\n",
       "        0.00054552, 0.00036286, 0.00062383, 0.00339484, 0.00090458,\n",
       "        0.00118936, 0.00159767, 0.00265449, 0.00341639, 0.00074618,\n",
       "        0.00105194, 0.00090917, 0.0013525 , 0.00245181, 0.00042929,\n",
       "        0.00148012, 0.00111658, 0.00104449, 0.00168206, 0.00052767]),\n",
       " 'mean_score_time': array([0.00621498, 0.00691903, 0.00648613, 0.00565634, 0.00565674,\n",
       "        0.00573716, 0.00531664, 0.00548267, 0.00517695, 0.00561221,\n",
       "        0.00583687, 0.00471485, 0.00586183, 0.00588531, 0.00549943,\n",
       "        0.00567279, 0.00624864, 0.00718596, 0.00766401, 0.00526793,\n",
       "        0.00576878, 0.00477068, 0.00518172, 0.00648196, 0.00561178,\n",
       "        0.00570569, 0.00560873, 0.00565171, 0.00576789, 0.00554698]),\n",
       " 'std_score_time': array([0.00086227, 0.00225782, 0.00200903, 0.00089149, 0.00083429,\n",
       "        0.00218408, 0.00066241, 0.00048538, 0.00043722, 0.00190553,\n",
       "        0.00207295, 0.00057624, 0.00252327, 0.00183987, 0.00105625,\n",
       "        0.00094132, 0.00157621, 0.00338077, 0.00576059, 0.00056184,\n",
       "        0.00108457, 0.00040208, 0.00061565, 0.00234355, 0.00094304,\n",
       "        0.00092545, 0.00130768, 0.00159775, 0.00082528, 0.0008033 ]),\n",
       " 'param_n_neighbors': masked_array(data=[32, 42, 9, 35, 50, 5, 14, 37, 8, 28, 11, 4, 7, 18, 3,\n",
       "                    22, 43, 29, 23, 17, 49, 6, 34, 21, 12, 44, 10, 40, 48,\n",
       "                    45],\n",
       "              mask=[False, False, False, False, False, False, False, False,\n",
       "                    False, False, False, False, False, False, False, False,\n",
       "                    False, False, False, False, False, False, False, False,\n",
       "                    False, False, False, False, False, False],\n",
       "        fill_value='?',\n",
       "             dtype=object),\n",
       " 'params': [{'n_neighbors': 32},\n",
       "  {'n_neighbors': 42},\n",
       "  {'n_neighbors': 9},\n",
       "  {'n_neighbors': 35},\n",
       "  {'n_neighbors': 50},\n",
       "  {'n_neighbors': 5},\n",
       "  {'n_neighbors': 14},\n",
       "  {'n_neighbors': 37},\n",
       "  {'n_neighbors': 8},\n",
       "  {'n_neighbors': 28},\n",
       "  {'n_neighbors': 11},\n",
       "  {'n_neighbors': 4},\n",
       "  {'n_neighbors': 7},\n",
       "  {'n_neighbors': 18},\n",
       "  {'n_neighbors': 3},\n",
       "  {'n_neighbors': 22},\n",
       "  {'n_neighbors': 43},\n",
       "  {'n_neighbors': 29},\n",
       "  {'n_neighbors': 23},\n",
       "  {'n_neighbors': 17},\n",
       "  {'n_neighbors': 49},\n",
       "  {'n_neighbors': 6},\n",
       "  {'n_neighbors': 34},\n",
       "  {'n_neighbors': 21},\n",
       "  {'n_neighbors': 12},\n",
       "  {'n_neighbors': 44},\n",
       "  {'n_neighbors': 10},\n",
       "  {'n_neighbors': 40},\n",
       "  {'n_neighbors': 48},\n",
       "  {'n_neighbors': 45}],\n",
       " 'split0_test_score': array([0.38926033, 0.33220405, 0.45003527, 0.36912424, 0.29176289,\n",
       "        0.36715057, 0.42526491, 0.36621519, 0.42880022, 0.40139356,\n",
       "        0.45267389, 0.40716976, 0.33358567, 0.43328291, 0.39008049,\n",
       "        0.41301   , 0.32998426, 0.39008421, 0.40552119, 0.42473355,\n",
       "        0.2957806 , 0.3267763 , 0.37905367, 0.4192891 , 0.4353998 ,\n",
       "        0.3225854 , 0.46324102, 0.34630513, 0.29915534, 0.3246141 ]),\n",
       " 'split1_test_score': array([0.69381003, 0.6490767 , 0.64202262, 0.67450954, 0.59108182,\n",
       "        0.67693985, 0.68652745, 0.67230517, 0.64567178, 0.70776586,\n",
       "        0.72018409, 0.72424971, 0.65765048, 0.70811265, 0.74436671,\n",
       "        0.7150049 , 0.63822355, 0.70909318, 0.71262191, 0.68091182,\n",
       "        0.59772198, 0.68566015, 0.68387231, 0.71736897, 0.68392197,\n",
       "        0.63219882, 0.68497386, 0.66139043, 0.6021549 , 0.63218444]),\n",
       " 'split2_test_score': array([0.59473252, 0.55531796, 0.6162239 , 0.59758725, 0.52165291,\n",
       "        0.66740487, 0.61331806, 0.59478048, 0.62423206, 0.58544211,\n",
       "        0.62921793, 0.72428508, 0.64130688, 0.61077079, 0.7207825 ,\n",
       "        0.60188665, 0.55376628, 0.58018611, 0.58873928, 0.61918087,\n",
       "        0.5215069 , 0.64834011, 0.59876772, 0.58965344, 0.60687014,\n",
       "        0.54916284, 0.61169149, 0.56820604, 0.52734662, 0.54299369]),\n",
       " 'split3_test_score': array([0.61702866, 0.55929794, 0.72543299, 0.59678085, 0.5245626 ,\n",
       "        0.73962399, 0.74920301, 0.57783406, 0.689046  , 0.67014041,\n",
       "        0.77876448, 0.84577419, 0.67299351, 0.68387759, 0.82506268,\n",
       "        0.69719873, 0.55080634, 0.65147829, 0.6931747 , 0.67182772,\n",
       "        0.53174468, 0.63980426, 0.59515695, 0.69082558, 0.76777843,\n",
       "        0.54608642, 0.75193484, 0.55712482, 0.53990827, 0.55628394]),\n",
       " 'split4_test_score': array([0.3137985 , 0.25083592, 0.51693366, 0.29699306, 0.19086631,\n",
       "        0.58467739, 0.44767703, 0.28278898, 0.53373659, 0.34659944,\n",
       "        0.4887671 , 0.63986265, 0.57159364, 0.40089272, 0.58725461,\n",
       "        0.35730442, 0.24089908, 0.34258968, 0.35413314, 0.39322303,\n",
       "        0.19799307, 0.62502795, 0.30269306, 0.3680346 , 0.47314979,\n",
       "        0.23449387, 0.49973106, 0.26693735, 0.20028784, 0.2267231 ]),\n",
       " 'split5_test_score': array([0.62502217, 0.61450062, 0.51195258, 0.62320153, 0.59858891,\n",
       "        0.47964806, 0.61207049, 0.61732865, 0.5395911 , 0.64675312,\n",
       "        0.5822356 , 0.57094315, 0.43903657, 0.62201058, 0.63360828,\n",
       "        0.63483998, 0.61536962, 0.64405796, 0.64469077, 0.61248284,\n",
       "        0.60097431, 0.39784416, 0.62077443, 0.64037815, 0.56526662,\n",
       "        0.61093433, 0.54605874, 0.62400667, 0.60855889, 0.60810661]),\n",
       " 'split6_test_score': array([0.50188582, 0.48049316, 0.53603033, 0.50353161, 0.47105378,\n",
       "        0.68490351, 0.55964467, 0.50276098, 0.55754885, 0.50768225,\n",
       "        0.55145439, 0.72191733, 0.57239703, 0.52290495, 0.74601471,\n",
       "        0.50828485, 0.49047838, 0.50472995, 0.49865385, 0.54654563,\n",
       "        0.46927338, 0.6283829 , 0.5145776 , 0.51417169, 0.57227035,\n",
       "        0.48870016, 0.54557103, 0.49817206, 0.47104609, 0.48421035]),\n",
       " 'split7_test_score': array([0.35783544, 0.31374827, 0.49482052, 0.33760813, 0.27799938,\n",
       "        0.55404666, 0.46525029, 0.32630358, 0.48452749, 0.40089463,\n",
       "        0.48931773, 0.51809897, 0.47847528, 0.44320201, 0.60886233,\n",
       "        0.42803966, 0.31639495, 0.38824062, 0.41749357, 0.45640847,\n",
       "        0.2836997 , 0.51237146, 0.34421387, 0.42944622, 0.47685905,\n",
       "        0.30851115, 0.48000488, 0.31808478, 0.28871762, 0.30382269]),\n",
       " 'split8_test_score': array([0.52530003, 0.47417961, 0.65601649, 0.50025793, 0.40771246,\n",
       "        0.77567643, 0.53331418, 0.49530107, 0.66965005, 0.54560785,\n",
       "        0.62291567, 0.77755334, 0.70136395, 0.55307411, 0.81964748,\n",
       "        0.53463994, 0.46168078, 0.54373539, 0.53206447, 0.53955859,\n",
       "        0.41722296, 0.75265507, 0.51143762, 0.54390414, 0.60839643,\n",
       "        0.45834737, 0.64931515, 0.48392421, 0.42082868, 0.44527596]),\n",
       " 'split9_test_score': array([0.62030781, 0.52212502, 0.75046966, 0.58728946, 0.46431255,\n",
       "        0.83437924, 0.71994061, 0.57350476, 0.76926123, 0.65824118,\n",
       "        0.71702964, 0.85712109, 0.79230385, 0.7113251 , 0.8559436 ,\n",
       "        0.6813    , 0.51192072, 0.6465353 , 0.67644307, 0.70850168,\n",
       "        0.47270189, 0.82770311, 0.59759299, 0.69944668, 0.73326413,\n",
       "        0.49850545, 0.74834321, 0.53882945, 0.48002142, 0.49466581]),\n",
       " 'mean_test_score': array([0.52389813, 0.47517792, 0.5899938 , 0.50868836, 0.43395936,\n",
       "        0.63644506, 0.58122107, 0.50091229, 0.59420654, 0.54705204,\n",
       "        0.60325605, 0.67869753, 0.58607069, 0.56894534, 0.69316234,\n",
       "        0.55715091, 0.4709524 , 0.54007307, 0.55235359, 0.56533742,\n",
       "        0.43886195, 0.60445655, 0.51481402, 0.56125186, 0.59231767,\n",
       "        0.46495258, 0.59808653, 0.48629809, 0.44380257, 0.46188807]),\n",
       " 'std_test_score': array([0.12345618, 0.12736321, 0.09738424, 0.12494419, 0.13202775,\n",
       "        0.13443585, 0.10904061, 0.12616273, 0.0981084 , 0.12209361,\n",
       "        0.10505725, 0.1371793 , 0.12995998, 0.11056366, 0.13408963,\n",
       "        0.12176236, 0.12684674, 0.12269761, 0.12373295, 0.10610912,\n",
       "        0.13117849, 0.14520379, 0.12357424, 0.12029292, 0.10620856,\n",
       "        0.12749234, 0.10191683, 0.12659596, 0.13239767, 0.1291702 ]),\n",
       " 'rank_test_score': array([19, 24,  9, 21, 30,  3, 11, 22,  7, 17,  5,  2, 10, 12,  1, 15, 25,\n",
       "        18, 16, 13, 29,  4, 20, 14,  8, 26,  6, 23, 28, 27])}"
      ]
     },
     "execution_count": 79,
     "metadata": {},
     "output_type": "execute_result"
    }
   ],
   "source": [
    "model.cv_results_"
   ]
  },
  {
   "cell_type": "code",
   "execution_count": 80,
   "metadata": {
    "id": "QXQ53v8KKax3",
    "scrolled": true
   },
   "outputs": [
    {
     "data": {
      "text/plain": [
       "array([0.52389813, 0.47517792, 0.5899938 , 0.50868836, 0.43395936,\n",
       "       0.63644506, 0.58122107, 0.50091229, 0.59420654, 0.54705204,\n",
       "       0.60325605, 0.67869753, 0.58607069, 0.56894534, 0.69316234,\n",
       "       0.55715091, 0.4709524 , 0.54007307, 0.55235359, 0.56533742,\n",
       "       0.43886195, 0.60445655, 0.51481402, 0.56125186, 0.59231767,\n",
       "       0.46495258, 0.59808653, 0.48629809, 0.44380257, 0.46188807])"
      ]
     },
     "execution_count": 80,
     "metadata": {},
     "output_type": "execute_result"
    }
   ],
   "source": [
    "# mean_test_score 확인\n",
    "model.cv_results_['mean_test_score']"
   ]
  },
  {
   "cell_type": "code",
   "execution_count": 81,
   "metadata": {
    "id": "WibiA2j9sRo_"
   },
   "outputs": [
    {
     "data": {
      "text/plain": [
       "{'n_neighbors': 3}"
      ]
     },
     "execution_count": 81,
     "metadata": {},
     "output_type": "execute_result"
    }
   ],
   "source": [
    "# 최적 파라미터\n",
    "model.best_params_"
   ]
  },
  {
   "cell_type": "code",
   "execution_count": 82,
   "metadata": {
    "id": "tPwtq5L3vUmo"
   },
   "outputs": [
    {
     "data": {
      "text/plain": [
       "0.693162339471915"
      ]
     },
     "execution_count": 82,
     "metadata": {},
     "output_type": "execute_result"
    }
   ],
   "source": [
    "# 최고 성능\n",
    "model.best_score_"
   ]
  },
  {
   "cell_type": "markdown",
   "metadata": {
    "id": "rRdgENo1_YD1"
   },
   "source": [
    "**3) 예측과 평가**\n",
    "\n",
    "- 학습을 통해 예상한 성능과 실제 평가에 따른 성능은 차이가 있을 수 있습니다.\n",
    "- 예선전에서 성적이 좋았다고 본선에서도 성적이 좋다고 보장할 수 없는 없겠지요?"
   ]
  },
  {
   "cell_type": "code",
   "execution_count": 83,
   "metadata": {
    "id": "99n6iBAGoatw"
   },
   "outputs": [],
   "source": [
    "# 예측하기\n",
    "y_pred = model.predict(x_test)"
   ]
  },
  {
   "cell_type": "code",
   "execution_count": 84,
   "metadata": {
    "id": "PeWScNMXtmet"
   },
   "outputs": [
    {
     "name": "stdout",
     "output_type": "stream",
     "text": [
      "MAE: 2.7524122807017544\n",
      "R2-Score: 0.8292574644994108\n"
     ]
    }
   ],
   "source": [
    "# 평가하기\n",
    "print('MAE:', mean_absolute_error(y_test, y_pred))\n",
    "print('R2-Score:', r2_score(y_test, y_pred))"
   ]
  }
 ],
 "metadata": {
  "colab": {
   "collapsed_sections": [],
   "name": "실습05_01_RandomSearch(KNN,Boston).ipynb",
   "provenance": [],
   "toc_visible": true
  },
  "kernelspec": {
   "display_name": "Python 3",
   "language": "python",
   "name": "python3"
  },
  "language_info": {
   "codemirror_mode": {
    "name": "ipython",
    "version": 3
   },
   "file_extension": ".py",
   "mimetype": "text/x-python",
   "name": "python",
   "nbconvert_exporter": "python",
   "pygments_lexer": "ipython3",
   "version": "3.8.8"
  }
 },
 "nbformat": 4,
 "nbformat_minor": 1
}
