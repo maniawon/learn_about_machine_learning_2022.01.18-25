{
 "cells": [
  {
   "cell_type": "markdown",
   "metadata": {
    "id": "y1J78TFSRrSA"
   },
   "source": [
    "<center><img src='https://raw.githubusercontent.com/Jangrae/img/master/ml_python.png' width=600/></center>"
   ]
  },
  {
   "cell_type": "markdown",
   "metadata": {
    "id": "30WC6LUaHGdk"
   },
   "source": [
    "# 실습 내용\n",
    "\n",
    "- Random Search로 Decision Tree 알고리즘 모델을 튜닝합니다.\n"
   ]
  },
  {
   "cell_type": "markdown",
   "metadata": {
    "id": "WW5MoKVRHuE8"
   },
   "source": [
    "# 1.환경 준비\n",
    "\n",
    "- 기본 라이브러리와 대상 데이터를 가져와 이후 과정을 준비합니다."
   ]
  },
  {
   "cell_type": "code",
   "execution_count": 1,
   "metadata": {
    "id": "BzJjQX4lNdJr",
    "scrolled": true
   },
   "outputs": [],
   "source": [
    "# 라이브러리 불러오기\n",
    "import numpy as np\n",
    "import pandas as pd\n",
    "import matplotlib.pyplot as plt"
   ]
  },
  {
   "cell_type": "code",
   "execution_count": 2,
   "metadata": {
    "id": "1yPDiJ4NNdJs"
   },
   "outputs": [],
   "source": [
    "# 데이터 읽어오기\n",
    "path = 'https://raw.githubusercontent.com/jangrae/csv/master/boston.csv'\n",
    "data = pd.read_csv(path)"
   ]
  },
  {
   "cell_type": "markdown",
   "metadata": {
    "id": "ZJOddHq2zfcU"
   },
   "source": [
    "# 2.데이터 이해\n",
    "\n",
    "- 분석할 데이터를 충분히 이해할 수 있도록 다양한 탐색 과정을 수행합니다."
   ]
  },
  {
   "cell_type": "code",
   "execution_count": 3,
   "metadata": {
    "id": "Wzs1nS348uwE"
   },
   "outputs": [
    {
     "data": {
      "text/html": [
       "<div>\n",
       "<style scoped>\n",
       "    .dataframe tbody tr th:only-of-type {\n",
       "        vertical-align: middle;\n",
       "    }\n",
       "\n",
       "    .dataframe tbody tr th {\n",
       "        vertical-align: top;\n",
       "    }\n",
       "\n",
       "    .dataframe thead th {\n",
       "        text-align: right;\n",
       "    }\n",
       "</style>\n",
       "<table border=\"1\" class=\"dataframe\">\n",
       "  <thead>\n",
       "    <tr style=\"text-align: right;\">\n",
       "      <th></th>\n",
       "      <th>crim</th>\n",
       "      <th>zn</th>\n",
       "      <th>indus</th>\n",
       "      <th>chas</th>\n",
       "      <th>nox</th>\n",
       "      <th>rm</th>\n",
       "      <th>age</th>\n",
       "      <th>dis</th>\n",
       "      <th>rad</th>\n",
       "      <th>tax</th>\n",
       "      <th>ptratio</th>\n",
       "      <th>black</th>\n",
       "      <th>lstat</th>\n",
       "      <th>medv</th>\n",
       "    </tr>\n",
       "  </thead>\n",
       "  <tbody>\n",
       "    <tr>\n",
       "      <th>0</th>\n",
       "      <td>0.00632</td>\n",
       "      <td>18.0</td>\n",
       "      <td>2.31</td>\n",
       "      <td>0</td>\n",
       "      <td>0.538</td>\n",
       "      <td>6.575</td>\n",
       "      <td>65.2</td>\n",
       "      <td>4.0900</td>\n",
       "      <td>1</td>\n",
       "      <td>296</td>\n",
       "      <td>15.3</td>\n",
       "      <td>396.90</td>\n",
       "      <td>4.98</td>\n",
       "      <td>24.0</td>\n",
       "    </tr>\n",
       "    <tr>\n",
       "      <th>1</th>\n",
       "      <td>0.02731</td>\n",
       "      <td>0.0</td>\n",
       "      <td>7.07</td>\n",
       "      <td>0</td>\n",
       "      <td>0.469</td>\n",
       "      <td>6.421</td>\n",
       "      <td>78.9</td>\n",
       "      <td>4.9671</td>\n",
       "      <td>2</td>\n",
       "      <td>242</td>\n",
       "      <td>17.8</td>\n",
       "      <td>396.90</td>\n",
       "      <td>9.14</td>\n",
       "      <td>21.6</td>\n",
       "    </tr>\n",
       "    <tr>\n",
       "      <th>2</th>\n",
       "      <td>0.02729</td>\n",
       "      <td>0.0</td>\n",
       "      <td>7.07</td>\n",
       "      <td>0</td>\n",
       "      <td>0.469</td>\n",
       "      <td>7.185</td>\n",
       "      <td>61.1</td>\n",
       "      <td>4.9671</td>\n",
       "      <td>2</td>\n",
       "      <td>242</td>\n",
       "      <td>17.8</td>\n",
       "      <td>392.83</td>\n",
       "      <td>4.03</td>\n",
       "      <td>34.7</td>\n",
       "    </tr>\n",
       "    <tr>\n",
       "      <th>3</th>\n",
       "      <td>0.03237</td>\n",
       "      <td>0.0</td>\n",
       "      <td>2.18</td>\n",
       "      <td>0</td>\n",
       "      <td>0.458</td>\n",
       "      <td>6.998</td>\n",
       "      <td>45.8</td>\n",
       "      <td>6.0622</td>\n",
       "      <td>3</td>\n",
       "      <td>222</td>\n",
       "      <td>18.7</td>\n",
       "      <td>394.63</td>\n",
       "      <td>2.94</td>\n",
       "      <td>33.4</td>\n",
       "    </tr>\n",
       "    <tr>\n",
       "      <th>4</th>\n",
       "      <td>0.06905</td>\n",
       "      <td>0.0</td>\n",
       "      <td>2.18</td>\n",
       "      <td>0</td>\n",
       "      <td>0.458</td>\n",
       "      <td>7.147</td>\n",
       "      <td>54.2</td>\n",
       "      <td>6.0622</td>\n",
       "      <td>3</td>\n",
       "      <td>222</td>\n",
       "      <td>18.7</td>\n",
       "      <td>396.90</td>\n",
       "      <td>5.33</td>\n",
       "      <td>36.2</td>\n",
       "    </tr>\n",
       "  </tbody>\n",
       "</table>\n",
       "</div>"
      ],
      "text/plain": [
       "      crim    zn  indus  chas    nox     rm   age     dis  rad  tax  ptratio  \\\n",
       "0  0.00632  18.0   2.31     0  0.538  6.575  65.2  4.0900    1  296     15.3   \n",
       "1  0.02731   0.0   7.07     0  0.469  6.421  78.9  4.9671    2  242     17.8   \n",
       "2  0.02729   0.0   7.07     0  0.469  7.185  61.1  4.9671    2  242     17.8   \n",
       "3  0.03237   0.0   2.18     0  0.458  6.998  45.8  6.0622    3  222     18.7   \n",
       "4  0.06905   0.0   2.18     0  0.458  7.147  54.2  6.0622    3  222     18.7   \n",
       "\n",
       "    black  lstat  medv  \n",
       "0  396.90   4.98  24.0  \n",
       "1  396.90   9.14  21.6  \n",
       "2  392.83   4.03  34.7  \n",
       "3  394.63   2.94  33.4  \n",
       "4  396.90   5.33  36.2  "
      ]
     },
     "execution_count": 3,
     "metadata": {},
     "output_type": "execute_result"
    }
   ],
   "source": [
    "# 상위 몇 개 행 확인\n",
    "data.head()"
   ]
  },
  {
   "cell_type": "code",
   "execution_count": 4,
   "metadata": {
    "id": "LhAk04Uy4Occ"
   },
   "outputs": [
    {
     "data": {
      "text/html": [
       "<div>\n",
       "<style scoped>\n",
       "    .dataframe tbody tr th:only-of-type {\n",
       "        vertical-align: middle;\n",
       "    }\n",
       "\n",
       "    .dataframe tbody tr th {\n",
       "        vertical-align: top;\n",
       "    }\n",
       "\n",
       "    .dataframe thead th {\n",
       "        text-align: right;\n",
       "    }\n",
       "</style>\n",
       "<table border=\"1\" class=\"dataframe\">\n",
       "  <thead>\n",
       "    <tr style=\"text-align: right;\">\n",
       "      <th></th>\n",
       "      <th>crim</th>\n",
       "      <th>zn</th>\n",
       "      <th>indus</th>\n",
       "      <th>chas</th>\n",
       "      <th>nox</th>\n",
       "      <th>rm</th>\n",
       "      <th>age</th>\n",
       "      <th>dis</th>\n",
       "      <th>rad</th>\n",
       "      <th>tax</th>\n",
       "      <th>ptratio</th>\n",
       "      <th>black</th>\n",
       "      <th>lstat</th>\n",
       "      <th>medv</th>\n",
       "    </tr>\n",
       "  </thead>\n",
       "  <tbody>\n",
       "    <tr>\n",
       "      <th>count</th>\n",
       "      <td>506.000000</td>\n",
       "      <td>506.000000</td>\n",
       "      <td>506.000000</td>\n",
       "      <td>506.000000</td>\n",
       "      <td>506.000000</td>\n",
       "      <td>506.000000</td>\n",
       "      <td>506.000000</td>\n",
       "      <td>506.000000</td>\n",
       "      <td>506.000000</td>\n",
       "      <td>506.000000</td>\n",
       "      <td>506.000000</td>\n",
       "      <td>506.000000</td>\n",
       "      <td>506.000000</td>\n",
       "      <td>506.000000</td>\n",
       "    </tr>\n",
       "    <tr>\n",
       "      <th>mean</th>\n",
       "      <td>3.613524</td>\n",
       "      <td>11.363636</td>\n",
       "      <td>11.136779</td>\n",
       "      <td>0.069170</td>\n",
       "      <td>0.554695</td>\n",
       "      <td>6.284634</td>\n",
       "      <td>68.574901</td>\n",
       "      <td>3.795043</td>\n",
       "      <td>9.549407</td>\n",
       "      <td>408.237154</td>\n",
       "      <td>18.455534</td>\n",
       "      <td>356.674032</td>\n",
       "      <td>12.653063</td>\n",
       "      <td>22.532806</td>\n",
       "    </tr>\n",
       "    <tr>\n",
       "      <th>std</th>\n",
       "      <td>8.601545</td>\n",
       "      <td>23.322453</td>\n",
       "      <td>6.860353</td>\n",
       "      <td>0.253994</td>\n",
       "      <td>0.115878</td>\n",
       "      <td>0.702617</td>\n",
       "      <td>28.148861</td>\n",
       "      <td>2.105710</td>\n",
       "      <td>8.707259</td>\n",
       "      <td>168.537116</td>\n",
       "      <td>2.164946</td>\n",
       "      <td>91.294864</td>\n",
       "      <td>7.141062</td>\n",
       "      <td>9.197104</td>\n",
       "    </tr>\n",
       "    <tr>\n",
       "      <th>min</th>\n",
       "      <td>0.006320</td>\n",
       "      <td>0.000000</td>\n",
       "      <td>0.460000</td>\n",
       "      <td>0.000000</td>\n",
       "      <td>0.385000</td>\n",
       "      <td>3.561000</td>\n",
       "      <td>2.900000</td>\n",
       "      <td>1.129600</td>\n",
       "      <td>1.000000</td>\n",
       "      <td>187.000000</td>\n",
       "      <td>12.600000</td>\n",
       "      <td>0.320000</td>\n",
       "      <td>1.730000</td>\n",
       "      <td>5.000000</td>\n",
       "    </tr>\n",
       "    <tr>\n",
       "      <th>25%</th>\n",
       "      <td>0.082045</td>\n",
       "      <td>0.000000</td>\n",
       "      <td>5.190000</td>\n",
       "      <td>0.000000</td>\n",
       "      <td>0.449000</td>\n",
       "      <td>5.885500</td>\n",
       "      <td>45.025000</td>\n",
       "      <td>2.100175</td>\n",
       "      <td>4.000000</td>\n",
       "      <td>279.000000</td>\n",
       "      <td>17.400000</td>\n",
       "      <td>375.377500</td>\n",
       "      <td>6.950000</td>\n",
       "      <td>17.025000</td>\n",
       "    </tr>\n",
       "    <tr>\n",
       "      <th>50%</th>\n",
       "      <td>0.256510</td>\n",
       "      <td>0.000000</td>\n",
       "      <td>9.690000</td>\n",
       "      <td>0.000000</td>\n",
       "      <td>0.538000</td>\n",
       "      <td>6.208500</td>\n",
       "      <td>77.500000</td>\n",
       "      <td>3.207450</td>\n",
       "      <td>5.000000</td>\n",
       "      <td>330.000000</td>\n",
       "      <td>19.050000</td>\n",
       "      <td>391.440000</td>\n",
       "      <td>11.360000</td>\n",
       "      <td>21.200000</td>\n",
       "    </tr>\n",
       "    <tr>\n",
       "      <th>75%</th>\n",
       "      <td>3.677083</td>\n",
       "      <td>12.500000</td>\n",
       "      <td>18.100000</td>\n",
       "      <td>0.000000</td>\n",
       "      <td>0.624000</td>\n",
       "      <td>6.623500</td>\n",
       "      <td>94.075000</td>\n",
       "      <td>5.188425</td>\n",
       "      <td>24.000000</td>\n",
       "      <td>666.000000</td>\n",
       "      <td>20.200000</td>\n",
       "      <td>396.225000</td>\n",
       "      <td>16.955000</td>\n",
       "      <td>25.000000</td>\n",
       "    </tr>\n",
       "    <tr>\n",
       "      <th>max</th>\n",
       "      <td>88.976200</td>\n",
       "      <td>100.000000</td>\n",
       "      <td>27.740000</td>\n",
       "      <td>1.000000</td>\n",
       "      <td>0.871000</td>\n",
       "      <td>8.780000</td>\n",
       "      <td>100.000000</td>\n",
       "      <td>12.126500</td>\n",
       "      <td>24.000000</td>\n",
       "      <td>711.000000</td>\n",
       "      <td>22.000000</td>\n",
       "      <td>396.900000</td>\n",
       "      <td>37.970000</td>\n",
       "      <td>50.000000</td>\n",
       "    </tr>\n",
       "  </tbody>\n",
       "</table>\n",
       "</div>"
      ],
      "text/plain": [
       "             crim          zn       indus        chas         nox          rm  \\\n",
       "count  506.000000  506.000000  506.000000  506.000000  506.000000  506.000000   \n",
       "mean     3.613524   11.363636   11.136779    0.069170    0.554695    6.284634   \n",
       "std      8.601545   23.322453    6.860353    0.253994    0.115878    0.702617   \n",
       "min      0.006320    0.000000    0.460000    0.000000    0.385000    3.561000   \n",
       "25%      0.082045    0.000000    5.190000    0.000000    0.449000    5.885500   \n",
       "50%      0.256510    0.000000    9.690000    0.000000    0.538000    6.208500   \n",
       "75%      3.677083   12.500000   18.100000    0.000000    0.624000    6.623500   \n",
       "max     88.976200  100.000000   27.740000    1.000000    0.871000    8.780000   \n",
       "\n",
       "              age         dis         rad         tax     ptratio       black  \\\n",
       "count  506.000000  506.000000  506.000000  506.000000  506.000000  506.000000   \n",
       "mean    68.574901    3.795043    9.549407  408.237154   18.455534  356.674032   \n",
       "std     28.148861    2.105710    8.707259  168.537116    2.164946   91.294864   \n",
       "min      2.900000    1.129600    1.000000  187.000000   12.600000    0.320000   \n",
       "25%     45.025000    2.100175    4.000000  279.000000   17.400000  375.377500   \n",
       "50%     77.500000    3.207450    5.000000  330.000000   19.050000  391.440000   \n",
       "75%     94.075000    5.188425   24.000000  666.000000   20.200000  396.225000   \n",
       "max    100.000000   12.126500   24.000000  711.000000   22.000000  396.900000   \n",
       "\n",
       "            lstat        medv  \n",
       "count  506.000000  506.000000  \n",
       "mean    12.653063   22.532806  \n",
       "std      7.141062    9.197104  \n",
       "min      1.730000    5.000000  \n",
       "25%      6.950000   17.025000  \n",
       "50%     11.360000   21.200000  \n",
       "75%     16.955000   25.000000  \n",
       "max     37.970000   50.000000  "
      ]
     },
     "execution_count": 4,
     "metadata": {},
     "output_type": "execute_result"
    }
   ],
   "source": [
    "# 기초통계량 확인\n",
    "data.describe()"
   ]
  },
  {
   "cell_type": "markdown",
   "metadata": {
    "id": "wW0d0eGmCYJM"
   },
   "source": [
    "# 3.데이터 준비\n",
    "\n",
    "- 전처리 과정을 통해 머신러닝 알고리즘에 사용할 수 있는 형태의 데이터를 준비합니다."
   ]
  },
  {
   "cell_type": "markdown",
   "metadata": {
    "id": "3cPr1J1RQyHa"
   },
   "source": [
    "**1) x, y 분리**"
   ]
  },
  {
   "cell_type": "code",
   "execution_count": 5,
   "metadata": {
    "id": "fK-oriQsQyHw"
   },
   "outputs": [],
   "source": [
    "# target 확인\n",
    "target = 'medv'\n",
    "\n",
    "# 데이터 분리\n",
    "x = data.drop(target, axis=1)\n",
    "y = data[target]"
   ]
  },
  {
   "cell_type": "markdown",
   "metadata": {
    "id": "nc6yw1RzQ7g1"
   },
   "source": [
    "**2) 학습용, 평가용 데이터 분리**"
   ]
  },
  {
   "cell_type": "code",
   "execution_count": 6,
   "metadata": {
    "id": "Kx7xyBwfQ35W"
   },
   "outputs": [
    {
     "name": "stdout",
     "output_type": "stream",
     "text": [
      "(354, 13)\n",
      "(152, 13)\n"
     ]
    }
   ],
   "source": [
    "# 모듈 불러오기\n",
    "from sklearn.model_selection import train_test_split\n",
    "\n",
    "# 데이터 분리\n",
    "x_train, x_test, y_train, y_test = train_test_split(x, y, test_size=0.3, \n",
    "                                                    random_state=2022)\n",
    "\n",
    "# 확인\n",
    "print(x_train.shape)\n",
    "print(x_test.shape)"
   ]
  },
  {
   "cell_type": "markdown",
   "metadata": {
    "id": "-GnkpAlFlezD"
   },
   "source": [
    "# 4.모델링\n",
    "\n",
    "- 본격적으로 모델을 선언하고 학습하고 평가하는 과정을 진행합니다.\n",
    "- 모델 선언시 max_depth=5, random_state=2022를 지정합니다."
   ]
  },
  {
   "cell_type": "code",
   "execution_count": 7,
   "metadata": {
    "id": "46LrmqgIqgN2"
   },
   "outputs": [],
   "source": [
    "# 불러오기\n",
    "from sklearn.tree import DecisionTreeRegressor\n",
    "from sklearn.metrics import mean_absolute_error, r2_score"
   ]
  },
  {
   "cell_type": "code",
   "execution_count": 8,
   "metadata": {
    "id": "pZ0QQiliqgN3"
   },
   "outputs": [],
   "source": [
    "# 선언하기\n",
    "model = DecisionTreeRegressor(max_depth=5, random_state=2022)"
   ]
  },
  {
   "cell_type": "code",
   "execution_count": 9,
   "metadata": {
    "id": "4FGBNX_RqgN4"
   },
   "outputs": [
    {
     "data": {
      "text/plain": [
       "DecisionTreeRegressor(max_depth=5, random_state=2022)"
      ]
     },
     "execution_count": 9,
     "metadata": {},
     "output_type": "execute_result"
    }
   ],
   "source": [
    "# 학습하기\n",
    "model.fit(x_train, y_train)"
   ]
  },
  {
   "cell_type": "code",
   "execution_count": 10,
   "metadata": {
    "id": "df-rQHcwqgN4"
   },
   "outputs": [],
   "source": [
    "# 예측하기\n",
    "y_pred = model.predict(x_test)"
   ]
  },
  {
   "cell_type": "code",
   "execution_count": 11,
   "metadata": {
    "id": "9owqlHRiqgN5"
   },
   "outputs": [
    {
     "name": "stdout",
     "output_type": "stream",
     "text": [
      "MAE: 3.2522706568198876\n",
      "R2-Score: 0.7147610837328198\n"
     ]
    }
   ],
   "source": [
    "# 평가하기\n",
    "print('MAE:', mean_absolute_error(y_test, y_pred))\n",
    "print('R2-Score:', r2_score(y_test, y_pred))"
   ]
  },
  {
   "cell_type": "markdown",
   "metadata": {
    "id": "m-EyKFHUtpI2"
   },
   "source": [
    "# 5.성능 튜닝 #1\n",
    "\n",
    "\n",
    "- Random Search로 튜닝을 진행합니다. \n"
   ]
  },
  {
   "cell_type": "markdown",
   "metadata": {
    "id": "vFYPwKfxRAfx"
   },
   "source": [
    "**1) 모델링 & 튜닝**"
   ]
  },
  {
   "cell_type": "code",
   "execution_count": 14,
   "metadata": {
    "id": "V-PSKjBMbFYJ"
   },
   "outputs": [
    {
     "data": {
      "text/plain": [
       "{'max_depth': range(1, 51)}"
      ]
     },
     "execution_count": 14,
     "metadata": {},
     "output_type": "execute_result"
    }
   ],
   "source": [
    "# 파라미터 선언\n",
    "  # max_depth: 1~50\n",
    "rand_param = {'max_depth':range(1, 51)}\n",
    "rand_param"
   ]
  },
  {
   "cell_type": "code",
   "execution_count": 15,
   "metadata": {
    "id": "Z6IU6K1YbFYM"
   },
   "outputs": [],
   "source": [
    "# 불러오기\n",
    "from sklearn.tree import DecisionTreeRegressor\n",
    "from sklearn.model_selection import RandomizedSearchCV"
   ]
  },
  {
   "cell_type": "code",
   "execution_count": 16,
   "metadata": {
    "id": "G8AGCijmbFYN"
   },
   "outputs": [],
   "source": [
    "# 선언하기\n",
    "model_dst = DecisionTreeRegressor(random_state=2022)\n",
    "\n",
    "# Random Search 선언\n",
    "  # cv=10\n",
    "  # n_iter=30\n",
    "  # scoring='r2'\n",
    "model = RandomizedSearchCV(model_dst, # 기본 모델 이름\n",
    "                          rand_param, # 앞에서 선언한 튜닝용 파라미터 변수\n",
    "                          cv=10,     # K-Fold Cross Validation(default=5)\n",
    "                          n_iter=30, # Random하게 시도할 횟수(default=10)\n",
    "                          scoring='r2', # 평가 방법\n",
    "                          n_jobs=-1) # cpu성능 좋아지게 병렬처리"
   ]
  },
  {
   "cell_type": "code",
   "execution_count": 17,
   "metadata": {
    "id": "HFVR5ILFbFYO"
   },
   "outputs": [
    {
     "data": {
      "text/plain": [
       "RandomizedSearchCV(cv=10, estimator=DecisionTreeRegressor(random_state=2022),\n",
       "                   n_iter=30, n_jobs=-1,\n",
       "                   param_distributions={'max_depth': range(1, 51)},\n",
       "                   scoring='r2')"
      ]
     },
     "execution_count": 17,
     "metadata": {},
     "output_type": "execute_result"
    }
   ],
   "source": [
    "# 학습하기\n",
    "model.fit(x_train, y_train)"
   ]
  },
  {
   "cell_type": "markdown",
   "metadata": {
    "id": "1BLGo4F2Hjio"
   },
   "source": [
    "**2) 결과 확인**"
   ]
  },
  {
   "cell_type": "code",
   "execution_count": 18,
   "metadata": {},
   "outputs": [
    {
     "data": {
      "text/plain": [
       "{'mean_fit_time': array([0.01174254, 0.00847023, 0.00776498, 0.00980101, 0.00741661,\n",
       "        0.0114244 , 0.00944343, 0.00932794, 0.00921278, 0.00890665,\n",
       "        0.00875471, 0.00999696, 0.00953774, 0.00931785, 0.00887876,\n",
       "        0.00904078, 0.00996358, 0.01011124, 0.01072571, 0.00975132,\n",
       "        0.00913932, 0.00940435, 0.00918431, 0.00879779, 0.00894449,\n",
       "        0.00975199, 0.00922596, 0.01011279, 0.00989234, 0.00882716]),\n",
       " 'std_fit_time': array([0.00328705, 0.00116001, 0.00224722, 0.00124478, 0.00119415,\n",
       "        0.00331387, 0.00087364, 0.00278542, 0.00072586, 0.00086258,\n",
       "        0.00056031, 0.00168443, 0.00192818, 0.00112289, 0.00093936,\n",
       "        0.00122374, 0.00169988, 0.00215301, 0.00308197, 0.00207594,\n",
       "        0.00081858, 0.00099262, 0.0008779 , 0.00065792, 0.00117584,\n",
       "        0.00206892, 0.00086242, 0.00188463, 0.00284294, 0.00128364]),\n",
       " 'mean_score_time': array([0.00480976, 0.00423908, 0.00549212, 0.00438826, 0.00410073,\n",
       "        0.00421479, 0.00382245, 0.00369623, 0.00419531, 0.0047365 ,\n",
       "        0.00428624, 0.00541604, 0.00379975, 0.00371857, 0.00441587,\n",
       "        0.00367272, 0.00448806, 0.00378959, 0.00412343, 0.00392337,\n",
       "        0.00398145, 0.00373683, 0.00463612, 0.00437934, 0.00362153,\n",
       "        0.00411749, 0.00469046, 0.00470169, 0.00379875, 0.00338631]),\n",
       " 'std_score_time': array([0.00179822, 0.00057714, 0.00213344, 0.00108364, 0.0005021 ,\n",
       "        0.00147249, 0.00057125, 0.00051495, 0.00117748, 0.00239003,\n",
       "        0.00134891, 0.00443087, 0.00054452, 0.00046872, 0.00110035,\n",
       "        0.0006441 , 0.00265343, 0.00059549, 0.00068392, 0.00067206,\n",
       "        0.0004474 , 0.00074639, 0.0025666 , 0.00092489, 0.00047837,\n",
       "        0.00069937, 0.00200991, 0.00165435, 0.00067912, 0.00072328]),\n",
       " 'param_max_depth': masked_array(data=[32, 6, 2, 23, 3, 39, 24, 19, 35, 17, 18, 26, 34, 36,\n",
       "                    50, 10, 29, 16, 30, 37, 45, 38, 40, 14, 21, 46, 20, 25,\n",
       "                    13, 47],\n",
       "              mask=[False, False, False, False, False, False, False, False,\n",
       "                    False, False, False, False, False, False, False, False,\n",
       "                    False, False, False, False, False, False, False, False,\n",
       "                    False, False, False, False, False, False],\n",
       "        fill_value='?',\n",
       "             dtype=object),\n",
       " 'params': [{'max_depth': 32},\n",
       "  {'max_depth': 6},\n",
       "  {'max_depth': 2},\n",
       "  {'max_depth': 23},\n",
       "  {'max_depth': 3},\n",
       "  {'max_depth': 39},\n",
       "  {'max_depth': 24},\n",
       "  {'max_depth': 19},\n",
       "  {'max_depth': 35},\n",
       "  {'max_depth': 17},\n",
       "  {'max_depth': 18},\n",
       "  {'max_depth': 26},\n",
       "  {'max_depth': 34},\n",
       "  {'max_depth': 36},\n",
       "  {'max_depth': 50},\n",
       "  {'max_depth': 10},\n",
       "  {'max_depth': 29},\n",
       "  {'max_depth': 16},\n",
       "  {'max_depth': 30},\n",
       "  {'max_depth': 37},\n",
       "  {'max_depth': 45},\n",
       "  {'max_depth': 38},\n",
       "  {'max_depth': 40},\n",
       "  {'max_depth': 14},\n",
       "  {'max_depth': 21},\n",
       "  {'max_depth': 46},\n",
       "  {'max_depth': 20},\n",
       "  {'max_depth': 25},\n",
       "  {'max_depth': 13},\n",
       "  {'max_depth': 47}],\n",
       " 'split0_test_score': array([0.8218737 , 0.79788356, 0.45616689, 0.8218737 , 0.7815458 ,\n",
       "        0.8218737 , 0.8218737 , 0.8218737 , 0.8218737 , 0.80460053,\n",
       "        0.82097657, 0.8218737 , 0.8218737 , 0.8218737 , 0.8218737 ,\n",
       "        0.81168437, 0.8218737 , 0.81747677, 0.8218737 , 0.8218737 ,\n",
       "        0.8218737 , 0.8218737 , 0.8218737 , 0.81853525, 0.8218737 ,\n",
       "        0.8218737 , 0.8218737 , 0.8218737 , 0.78554526, 0.8218737 ]),\n",
       " 'split1_test_score': array([0.74465874, 0.7451739 , 0.35811572, 0.74465874, 0.59193002,\n",
       "        0.74465874, 0.74465874, 0.74419702, 0.74465874, 0.73729892,\n",
       "        0.74452352, 0.74465874, 0.74465874, 0.74465874, 0.74465874,\n",
       "        0.77296776, 0.74465874, 0.72983229, 0.74465874, 0.74465874,\n",
       "        0.74465874, 0.74465874, 0.74465874, 0.78003562, 0.71665764,\n",
       "        0.74465874, 0.75438311, 0.74465874, 0.75718815, 0.74465874]),\n",
       " 'split2_test_score': array([0.82708527, 0.8441566 , 0.70515039, 0.82708527, 0.80744528,\n",
       "        0.82708527, 0.82708527, 0.82708527, 0.82708527, 0.81081994,\n",
       "        0.85153602, 0.82708527, 0.82708527, 0.82708527, 0.82708527,\n",
       "        0.82598516, 0.82708527, 0.81180774, 0.82708527, 0.82708527,\n",
       "        0.82708527, 0.82708527, 0.82708527, 0.83087443, 0.82708527,\n",
       "        0.82708527, 0.82708527, 0.82708527, 0.85987319, 0.82708527]),\n",
       " 'split3_test_score': array([0.63038326, 0.82525954, 0.79543126, 0.63038326, 0.78231102,\n",
       "        0.63038326, 0.63038326, 0.63038326, 0.63038326, 0.62565997,\n",
       "        0.64929425, 0.63038326, 0.63038326, 0.63038326, 0.63038326,\n",
       "        0.65141794, 0.63038326, 0.60903043, 0.63038326, 0.63038326,\n",
       "        0.63038326, 0.63038326, 0.63038326, 0.71326149, 0.63038326,\n",
       "        0.63038326, 0.63038326, 0.63038326, 0.75955104, 0.63038326]),\n",
       " 'split4_test_score': array([0.65803077, 0.70927117, 0.41374766, 0.65803077, 0.46160697,\n",
       "        0.65803077, 0.65803077, 0.66278344, 0.65803077, 0.69185742,\n",
       "        0.68734422, 0.65803077, 0.65803077, 0.65803077, 0.65803077,\n",
       "        0.66354306, 0.65803077, 0.67702832, 0.65803077, 0.65803077,\n",
       "        0.65803077, 0.65803077, 0.65803077, 0.69126792, 0.65803077,\n",
       "        0.65803077, 0.65803077, 0.65803077, 0.65442304, 0.65803077]),\n",
       " 'split5_test_score': array([0.24408602, 0.27158277, 0.72494869, 0.24408602, 0.23505467,\n",
       "        0.24408602, 0.24408602, 0.22910848, 0.24408602, 0.25380971,\n",
       "        0.27624494, 0.24408602, 0.24408602, 0.24408602, 0.24408602,\n",
       "        0.25948899, 0.24408602, 0.27260215, 0.24408602, 0.24408602,\n",
       "        0.24408602, 0.24408602, 0.24408602, 0.27683813, 0.24408602,\n",
       "        0.24408602, 0.24408602, 0.24408602, 0.25386947, 0.24408602]),\n",
       " 'split6_test_score': array([0.49464545, 0.85204648, 0.68961116, 0.49464545, 0.75561232,\n",
       "        0.49464545, 0.49464545, 0.49464545, 0.49464545, 0.49464545,\n",
       "        0.49464545, 0.49464545, 0.49464545, 0.49464545, 0.49464545,\n",
       "        0.50793164, 0.49464545, 0.49464545, 0.49464545, 0.49464545,\n",
       "        0.49464545, 0.49464545, 0.49464545, 0.84869107, 0.49464545,\n",
       "        0.49464545, 0.49464545, 0.49464545, 0.47721178, 0.49464545]),\n",
       " 'split7_test_score': array([0.83895094, 0.76390584, 0.71842025, 0.83895094, 0.71258989,\n",
       "        0.83895094, 0.83895094, 0.56489233, 0.83895094, 0.55872951,\n",
       "        0.81234369, 0.83895094, 0.83895094, 0.83895094, 0.83895094,\n",
       "        0.83858734, 0.83895094, 0.81594545, 0.83895094, 0.83895094,\n",
       "        0.83895094, 0.83895094, 0.83895094, 0.74845662, 0.83895094,\n",
       "        0.83895094, 0.83895094, 0.83895094, 0.7572437 , 0.83895094]),\n",
       " 'split8_test_score': array([0.57627473, 0.81023969, 0.75754995, 0.57627473, 0.80355477,\n",
       "        0.57627473, 0.57627473, 0.58207975, 0.57627473, 0.57301234,\n",
       "        0.69821538, 0.57627473, 0.57627473, 0.57627473, 0.57627473,\n",
       "        0.7290399 , 0.57627473, 0.79445768, 0.57627473, 0.57627473,\n",
       "        0.57627473, 0.57627473, 0.57627473, 0.53510666, 0.57627473,\n",
       "        0.57627473, 0.57627473, 0.57627473, 0.53013329, 0.57627473]),\n",
       " 'split9_test_score': array([0.8683238 , 0.88634111, 0.81965345, 0.85442677, 0.81626226,\n",
       "        0.8683238 , 0.8683238 , 0.84731244, 0.8683238 , 0.86131212,\n",
       "        0.86293626, 0.8683238 , 0.8683238 , 0.8683238 , 0.8683238 ,\n",
       "        0.88176023, 0.8683238 , 0.86168032, 0.8683238 , 0.8683238 ,\n",
       "        0.8683238 , 0.8683238 , 0.8683238 , 0.88953257, 0.83076433,\n",
       "        0.8683238 , 0.87134742, 0.8683238 , 0.85472755, 0.8683238 ]),\n",
       " 'mean_test_score': array([0.67043127, 0.75058607, 0.64387954, 0.66904156, 0.6747913 ,\n",
       "        0.67043127, 0.67043127, 0.64043612, 0.67043127, 0.64117459,\n",
       "        0.68980603, 0.67043127, 0.67043127, 0.67043127, 0.67043127,\n",
       "        0.69424064, 0.67043127, 0.68845066, 0.67043127, 0.67043127,\n",
       "        0.67043127, 0.67043127, 0.67043127, 0.71325998, 0.66387521,\n",
       "        0.67043127, 0.67170607, 0.67043127, 0.66897665, 0.67043127]),\n",
       " 'std_test_score': array([0.18542905, 0.16739433, 0.15956724, 0.1839872 , 0.18187655,\n",
       "        0.18542905, 0.18542905, 0.17929857, 0.18542905, 0.17290549,\n",
       "        0.17383448, 0.18542905, 0.18542905, 0.18542905, 0.18542905,\n",
       "        0.17917989, 0.18542905, 0.17550116, 0.18542905, 0.18542905,\n",
       "        0.18542905, 0.18542905, 0.18542905, 0.1739867 , 0.18071577,\n",
       "        0.18542905, 0.18616313, 0.18542905, 0.1835446 , 0.18542905]),\n",
       " 'rank_test_score': array([ 8,  1, 28, 25,  6,  8,  8, 30,  8, 29,  4,  8,  8,  8,  8,  3,  8,\n",
       "         5,  8,  8,  8,  8,  8,  2, 27,  8,  7,  8, 26,  8])}"
      ]
     },
     "execution_count": 18,
     "metadata": {},
     "output_type": "execute_result"
    }
   ],
   "source": [
    "model.cv_results_"
   ]
  },
  {
   "cell_type": "code",
   "execution_count": 19,
   "metadata": {
    "id": "hdzj0QqHcGU6"
   },
   "outputs": [
    {
     "data": {
      "text/plain": [
       "array([0.67043127, 0.75058607, 0.64387954, 0.66904156, 0.6747913 ,\n",
       "       0.67043127, 0.67043127, 0.64043612, 0.67043127, 0.64117459,\n",
       "       0.68980603, 0.67043127, 0.67043127, 0.67043127, 0.67043127,\n",
       "       0.69424064, 0.67043127, 0.68845066, 0.67043127, 0.67043127,\n",
       "       0.67043127, 0.67043127, 0.67043127, 0.71325998, 0.66387521,\n",
       "       0.67043127, 0.67170607, 0.67043127, 0.66897665, 0.67043127])"
      ]
     },
     "execution_count": 19,
     "metadata": {},
     "output_type": "execute_result"
    }
   ],
   "source": [
    "# mean_test_score 확인\n",
    "model.cv_results_['mean_test_score']"
   ]
  },
  {
   "cell_type": "code",
   "execution_count": 20,
   "metadata": {
    "id": "5qd6p43-bFYP"
   },
   "outputs": [
    {
     "data": {
      "text/plain": [
       "{'max_depth': 6}"
      ]
     },
     "execution_count": 20,
     "metadata": {},
     "output_type": "execute_result"
    }
   ],
   "source": [
    "# 최적 파라미터\n",
    "model.best_params_"
   ]
  },
  {
   "cell_type": "code",
   "execution_count": 21,
   "metadata": {
    "id": "jrJ4YsmMbFYQ"
   },
   "outputs": [
    {
     "data": {
      "text/plain": [
       "0.750586066038991"
      ]
     },
     "execution_count": 21,
     "metadata": {},
     "output_type": "execute_result"
    }
   ],
   "source": [
    "# 최적 파라미터 사용시 성능\n",
    "model.best_score_"
   ]
  },
  {
   "cell_type": "markdown",
   "metadata": {
    "id": "iCnH_1KtB97j"
   },
   "source": [
    "**3) 예측과 평가**\n",
    "\n",
    "- 학습을 통해 예상한 성능과 실제 평가에 따른 성능은 차이가 있을 수 있습니다.\n",
    "- 예선전에서 성적이 좋았다고 본선에서도 성적이 좋다고 보장할 수 없는 없겠지요?"
   ]
  },
  {
   "cell_type": "code",
   "execution_count": 22,
   "metadata": {
    "id": "hL4VPE0ZbFYR"
   },
   "outputs": [],
   "source": [
    "# 예측하기\n",
    "y_pred = model.predict(x_test)"
   ]
  },
  {
   "cell_type": "code",
   "execution_count": 23,
   "metadata": {
    "id": "R1j5TCkObFYS"
   },
   "outputs": [
    {
     "name": "stdout",
     "output_type": "stream",
     "text": [
      "MAE: 3.289997930052067\n",
      "R2-Score: 0.7155124286118656\n"
     ]
    }
   ],
   "source": [
    "# 평가하기\n",
    "print('MAE:', mean_absolute_error(y_test, y_pred))\n",
    "print('R2-Score:', r2_score(y_test, y_pred))"
   ]
  },
  {
   "cell_type": "markdown",
   "metadata": {},
   "source": [
    "--------------------------------------------------------------------------"
   ]
  },
  {
   "cell_type": "markdown",
   "metadata": {
    "id": "I7Hgd2ovoaty"
   },
   "source": [
    "# 6.성능 튜닝 #2\n",
    "\n",
    "- Grid Search로 튜닝을 진행합니다. "
   ]
  },
  {
   "cell_type": "markdown",
   "metadata": {
    "id": "7tyVP1q7QViv"
   },
   "source": [
    "**1) 모델링 & 튜닝**\n",
    "\n",
    "- 성능을 확인할 파라미터를 딕셔너리 형태로 선언합니다."
   ]
  },
  {
   "cell_type": "code",
   "execution_count": 57,
   "metadata": {},
   "outputs": [
    {
     "data": {
      "text/plain": [
       "{'max_depth': [3, 4, 5, 6, 7, 8, 9]}"
      ]
     },
     "execution_count": 57,
     "metadata": {},
     "output_type": "execute_result"
    }
   ],
   "source": [
    "# 파라미터 선언\n",
    "  # max_depth: 1~50\n",
    "grid_param = {'max_depth':[3, 4, 5, 6, 7, 8, 9]}\n",
    "grid_param"
   ]
  },
  {
   "cell_type": "code",
   "execution_count": 58,
   "metadata": {
    "id": "Z6IU6K1YbFYM"
   },
   "outputs": [],
   "source": [
    "# 불러오기\n",
    "from sklearn.tree import DecisionTreeRegressor\n",
    "from sklearn.model_selection import GridSearchCV"
   ]
  },
  {
   "cell_type": "code",
   "execution_count": 59,
   "metadata": {},
   "outputs": [],
   "source": [
    "# 선언하기\n",
    "model_dst = DecisionTreeRegressor(random_state=2022)\n",
    "\n",
    "# Grid Search 모델 선언하기\n",
    "  # cv=10\n",
    "  # scoring='r2'\n",
    "model = GridSearchCV(model_dst, # 기본 모델 이름\n",
    "                          grid_param, # 앞에서 선언한 튜닝용 파라미터 변수\n",
    "                          cv=10, # K-Fold Cross Validation(default=5)\n",
    "                          scoring='r2', # 평가 방법\n",
    "                          n_jobs=-1) # cpu성능 좋아지게 병렬처리"
   ]
  },
  {
   "cell_type": "code",
   "execution_count": 60,
   "metadata": {},
   "outputs": [
    {
     "data": {
      "text/plain": [
       "GridSearchCV(cv=10, estimator=DecisionTreeRegressor(random_state=2022),\n",
       "             n_jobs=-1, param_grid={'max_depth': [3, 4, 5, 6, 7, 8, 9]},\n",
       "             scoring='r2')"
      ]
     },
     "execution_count": 60,
     "metadata": {},
     "output_type": "execute_result"
    }
   ],
   "source": [
    "# 학습하기\n",
    "model.fit(x_train, y_train)"
   ]
  },
  {
   "cell_type": "markdown",
   "metadata": {
    "id": "1BLGo4F2Hjio"
   },
   "source": [
    "**2) 결과 확인**"
   ]
  },
  {
   "cell_type": "code",
   "execution_count": 61,
   "metadata": {
    "scrolled": true
   },
   "outputs": [
    {
     "data": {
      "text/plain": [
       "{'mean_fit_time': array([0.00684927, 0.00694923, 0.00730288, 0.00840948, 0.00812836,\n",
       "        0.00837667, 0.00797629]),\n",
       " 'std_fit_time': array([0.00068877, 0.00117416, 0.00153265, 0.00231086, 0.00122576,\n",
       "        0.00143294, 0.00123014]),\n",
       " 'mean_score_time': array([0.00408399, 0.00427148, 0.00412376, 0.00368884, 0.00583444,\n",
       "        0.00489862, 0.00385687]),\n",
       " 'std_score_time': array([0.00083073, 0.00118177, 0.00075979, 0.00067702, 0.00250507,\n",
       "        0.00241817, 0.00052701]),\n",
       " 'param_max_depth': masked_array(data=[3, 4, 5, 6, 7, 8, 9],\n",
       "              mask=[False, False, False, False, False, False, False],\n",
       "        fill_value='?',\n",
       "             dtype=object),\n",
       " 'params': [{'max_depth': 3},\n",
       "  {'max_depth': 4},\n",
       "  {'max_depth': 5},\n",
       "  {'max_depth': 6},\n",
       "  {'max_depth': 7},\n",
       "  {'max_depth': 8},\n",
       "  {'max_depth': 9}],\n",
       " 'split0_test_score': array([0.7815458 , 0.84976308, 0.87111301, 0.79788356, 0.80482506,\n",
       "        0.81289098, 0.83457009]),\n",
       " 'split1_test_score': array([0.59193002, 0.63194801, 0.67960224, 0.7451739 , 0.70900608,\n",
       "        0.76463976, 0.75713104]),\n",
       " 'split2_test_score': array([0.80744528, 0.87357106, 0.8892746 , 0.8441566 , 0.87110039,\n",
       "        0.82691236, 0.86245112]),\n",
       " 'split3_test_score': array([0.78231102, 0.74985903, 0.73151296, 0.82525954, 0.56478595,\n",
       "        0.54174603, 0.73612696]),\n",
       " 'split4_test_score': array([0.46160697, 0.68071711, 0.71133203, 0.70927117, 0.71381306,\n",
       "        0.69993493, 0.6952997 ]),\n",
       " 'split5_test_score': array([0.23505467, 0.2776042 , 0.27742407, 0.27158277, 0.26673449,\n",
       "        0.2869904 , 0.27154643]),\n",
       " 'split6_test_score': array([0.75561232, 0.59011285, 0.81011926, 0.85204648, 0.78617559,\n",
       "        0.82465989, 0.8317143 ]),\n",
       " 'split7_test_score': array([0.71258989, 0.71713923, 0.79980946, 0.76390584, 0.81469734,\n",
       "        0.77905342, 0.57137008]),\n",
       " 'split8_test_score': array([0.80355477, 0.8244997 , 0.78132883, 0.81023969, 0.73759992,\n",
       "        0.78751841, 0.7529331 ]),\n",
       " 'split9_test_score': array([0.81626226, 0.8639189 , 0.88279065, 0.88634111, 0.87923622,\n",
       "        0.88600867, 0.88039131]),\n",
       " 'mean_test_score': array([0.6747913 , 0.70591332, 0.74343071, 0.75058607, 0.71479741,\n",
       "        0.72103549, 0.71935341]),\n",
       " 'std_test_score': array([0.18187655, 0.17112913, 0.16984264, 0.16739433, 0.17276251,\n",
       "        0.16978633, 0.17267161]),\n",
       " 'rank_test_score': array([7, 6, 2, 1, 5, 3, 4])}"
      ]
     },
     "execution_count": 61,
     "metadata": {},
     "output_type": "execute_result"
    }
   ],
   "source": [
    "model.cv_results_"
   ]
  },
  {
   "cell_type": "code",
   "execution_count": 62,
   "metadata": {},
   "outputs": [
    {
     "data": {
      "text/plain": [
       "array([0.6747913 , 0.70591332, 0.74343071, 0.75058607, 0.71479741,\n",
       "       0.72103549, 0.71935341])"
      ]
     },
     "execution_count": 62,
     "metadata": {},
     "output_type": "execute_result"
    }
   ],
   "source": [
    "# mean_test_score 확인\n",
    "model.cv_results_['mean_test_score']"
   ]
  },
  {
   "cell_type": "code",
   "execution_count": 63,
   "metadata": {},
   "outputs": [
    {
     "data": {
      "text/plain": [
       "{'max_depth': 6}"
      ]
     },
     "execution_count": 63,
     "metadata": {},
     "output_type": "execute_result"
    }
   ],
   "source": [
    "# 최적 파라미터\n",
    "model.best_params_"
   ]
  },
  {
   "cell_type": "code",
   "execution_count": 64,
   "metadata": {},
   "outputs": [
    {
     "data": {
      "text/plain": [
       "0.750586066038991"
      ]
     },
     "execution_count": 64,
     "metadata": {},
     "output_type": "execute_result"
    }
   ],
   "source": [
    "# 최적 파라미터 사용시 성능\n",
    "model.best_score_"
   ]
  },
  {
   "cell_type": "markdown",
   "metadata": {
    "id": "iCnH_1KtB97j"
   },
   "source": [
    "**3) 예측과 평가**\n",
    "\n",
    "- 학습을 통해 예상한 성능과 실제 평가에 따른 성능은 차이가 있을 수 있습니다.\n",
    "- 예선전에서 성적이 좋았다고 본선에서도 성적이 좋다고 보장할 수 없는 없겠지요?"
   ]
  },
  {
   "cell_type": "code",
   "execution_count": 65,
   "metadata": {},
   "outputs": [],
   "source": [
    "# 예측하기\n",
    "y_pred = model.predict(x_test)"
   ]
  },
  {
   "cell_type": "code",
   "execution_count": 66,
   "metadata": {},
   "outputs": [
    {
     "name": "stdout",
     "output_type": "stream",
     "text": [
      "MAE: 3.289997930052067\n",
      "R2-Score: 0.7155124286118656\n"
     ]
    }
   ],
   "source": [
    "# 평가하기\n",
    "print('MAE:', mean_absolute_error(y_test, y_pred))\n",
    "print('R2-Score:', r2_score(y_test, y_pred))"
   ]
  }
 ],
 "metadata": {
  "colab": {
   "collapsed_sections": [],
   "name": "실습05_02_RandomSearch(결정트리,Boston).ipynb",
   "provenance": [],
   "toc_visible": true
  },
  "kernelspec": {
   "display_name": "Python 3",
   "language": "python",
   "name": "python3"
  },
  "language_info": {
   "codemirror_mode": {
    "name": "ipython",
    "version": 3
   },
   "file_extension": ".py",
   "mimetype": "text/x-python",
   "name": "python",
   "nbconvert_exporter": "python",
   "pygments_lexer": "ipython3",
   "version": "3.8.8"
  }
 },
 "nbformat": 4,
 "nbformat_minor": 1
}
