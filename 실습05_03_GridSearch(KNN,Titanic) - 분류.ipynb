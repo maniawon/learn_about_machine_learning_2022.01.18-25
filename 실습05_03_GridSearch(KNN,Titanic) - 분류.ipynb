{
 "cells": [
  {
   "cell_type": "markdown",
   "metadata": {
    "id": "y1J78TFSRrSA"
   },
   "source": [
    "<center><img src='https://raw.githubusercontent.com/Jangrae/img/master/ml_python.png' width=600/></center>"
   ]
  },
  {
   "cell_type": "markdown",
   "metadata": {
    "id": "30WC6LUaHGdk"
   },
   "source": [
    "# 실습 내용\n",
    "\n",
    "- Grid Search로 KNN 알고리즘 모델을 튜닝합니다.\n"
   ]
  },
  {
   "cell_type": "markdown",
   "metadata": {
    "id": "WW5MoKVRHuE8"
   },
   "source": [
    "# 1.환경 준비\n",
    "\n",
    "- 기본 라이브러리와 대상 데이터를 가져와 이후 과정을 준비합니다."
   ]
  },
  {
   "cell_type": "code",
   "execution_count": 40,
   "metadata": {
    "id": "BzJjQX4lNdJr",
    "scrolled": true
   },
   "outputs": [],
   "source": [
    "# 라이브러리 불러오기\n",
    "import numpy as np\n",
    "import pandas as pd\n",
    "import matplotlib.pyplot as plt"
   ]
  },
  {
   "cell_type": "code",
   "execution_count": 41,
   "metadata": {
    "id": "1yPDiJ4NNdJs"
   },
   "outputs": [],
   "source": [
    "# 데이터 읽어오기\n",
    "path = 'https://raw.githubusercontent.com/jangrae/csv/master/titanic.csv'\n",
    "data = pd.read_csv(path)"
   ]
  },
  {
   "cell_type": "markdown",
   "metadata": {
    "id": "ZJOddHq2zfcU"
   },
   "source": [
    "# 2.데이터 이해\n",
    "\n",
    "- 분석할 데이터를 충분히 이해할 수 있도록 다양한 탐색 과정을 수행합니다."
   ]
  },
  {
   "cell_type": "code",
   "execution_count": 42,
   "metadata": {
    "id": "Wzs1nS348uwE"
   },
   "outputs": [
    {
     "data": {
      "text/html": [
       "<div>\n",
       "<style scoped>\n",
       "    .dataframe tbody tr th:only-of-type {\n",
       "        vertical-align: middle;\n",
       "    }\n",
       "\n",
       "    .dataframe tbody tr th {\n",
       "        vertical-align: top;\n",
       "    }\n",
       "\n",
       "    .dataframe thead th {\n",
       "        text-align: right;\n",
       "    }\n",
       "</style>\n",
       "<table border=\"1\" class=\"dataframe\">\n",
       "  <thead>\n",
       "    <tr style=\"text-align: right;\">\n",
       "      <th></th>\n",
       "      <th>PassengerId</th>\n",
       "      <th>Survived</th>\n",
       "      <th>Pclass</th>\n",
       "      <th>Name</th>\n",
       "      <th>Sex</th>\n",
       "      <th>Age</th>\n",
       "      <th>SibSp</th>\n",
       "      <th>Parch</th>\n",
       "      <th>Ticket</th>\n",
       "      <th>Fare</th>\n",
       "      <th>Cabin</th>\n",
       "      <th>Embarked</th>\n",
       "    </tr>\n",
       "  </thead>\n",
       "  <tbody>\n",
       "    <tr>\n",
       "      <th>0</th>\n",
       "      <td>1</td>\n",
       "      <td>0</td>\n",
       "      <td>3</td>\n",
       "      <td>Braund, Mr. Owen Harris</td>\n",
       "      <td>male</td>\n",
       "      <td>22.0</td>\n",
       "      <td>1</td>\n",
       "      <td>0</td>\n",
       "      <td>A/5 21171</td>\n",
       "      <td>7.2500</td>\n",
       "      <td>NaN</td>\n",
       "      <td>S</td>\n",
       "    </tr>\n",
       "    <tr>\n",
       "      <th>1</th>\n",
       "      <td>2</td>\n",
       "      <td>1</td>\n",
       "      <td>1</td>\n",
       "      <td>Cumings, Mrs. John Bradley (Florence Briggs Th...</td>\n",
       "      <td>female</td>\n",
       "      <td>38.0</td>\n",
       "      <td>1</td>\n",
       "      <td>0</td>\n",
       "      <td>PC 17599</td>\n",
       "      <td>71.2833</td>\n",
       "      <td>C85</td>\n",
       "      <td>C</td>\n",
       "    </tr>\n",
       "    <tr>\n",
       "      <th>2</th>\n",
       "      <td>3</td>\n",
       "      <td>1</td>\n",
       "      <td>3</td>\n",
       "      <td>Heikkinen, Miss. Laina</td>\n",
       "      <td>female</td>\n",
       "      <td>26.0</td>\n",
       "      <td>0</td>\n",
       "      <td>0</td>\n",
       "      <td>STON/O2. 3101282</td>\n",
       "      <td>7.9250</td>\n",
       "      <td>NaN</td>\n",
       "      <td>S</td>\n",
       "    </tr>\n",
       "    <tr>\n",
       "      <th>3</th>\n",
       "      <td>4</td>\n",
       "      <td>1</td>\n",
       "      <td>1</td>\n",
       "      <td>Futrelle, Mrs. Jacques Heath (Lily May Peel)</td>\n",
       "      <td>female</td>\n",
       "      <td>35.0</td>\n",
       "      <td>1</td>\n",
       "      <td>0</td>\n",
       "      <td>113803</td>\n",
       "      <td>53.1000</td>\n",
       "      <td>C123</td>\n",
       "      <td>S</td>\n",
       "    </tr>\n",
       "    <tr>\n",
       "      <th>4</th>\n",
       "      <td>5</td>\n",
       "      <td>0</td>\n",
       "      <td>3</td>\n",
       "      <td>Allen, Mr. William Henry</td>\n",
       "      <td>male</td>\n",
       "      <td>35.0</td>\n",
       "      <td>0</td>\n",
       "      <td>0</td>\n",
       "      <td>373450</td>\n",
       "      <td>8.0500</td>\n",
       "      <td>NaN</td>\n",
       "      <td>S</td>\n",
       "    </tr>\n",
       "  </tbody>\n",
       "</table>\n",
       "</div>"
      ],
      "text/plain": [
       "   PassengerId  Survived  Pclass  \\\n",
       "0            1         0       3   \n",
       "1            2         1       1   \n",
       "2            3         1       3   \n",
       "3            4         1       1   \n",
       "4            5         0       3   \n",
       "\n",
       "                                                Name     Sex   Age  SibSp  \\\n",
       "0                            Braund, Mr. Owen Harris    male  22.0      1   \n",
       "1  Cumings, Mrs. John Bradley (Florence Briggs Th...  female  38.0      1   \n",
       "2                             Heikkinen, Miss. Laina  female  26.0      0   \n",
       "3       Futrelle, Mrs. Jacques Heath (Lily May Peel)  female  35.0      1   \n",
       "4                           Allen, Mr. William Henry    male  35.0      0   \n",
       "\n",
       "   Parch            Ticket     Fare Cabin Embarked  \n",
       "0      0         A/5 21171   7.2500   NaN        S  \n",
       "1      0          PC 17599  71.2833   C85        C  \n",
       "2      0  STON/O2. 3101282   7.9250   NaN        S  \n",
       "3      0            113803  53.1000  C123        S  \n",
       "4      0            373450   8.0500   NaN        S  "
      ]
     },
     "execution_count": 42,
     "metadata": {},
     "output_type": "execute_result"
    }
   ],
   "source": [
    "# 상위 몇 개 행 확인\n",
    "data.head()"
   ]
  },
  {
   "cell_type": "code",
   "execution_count": 43,
   "metadata": {
    "id": "1ZsXdcfp8uwI"
   },
   "outputs": [
    {
     "name": "stdout",
     "output_type": "stream",
     "text": [
      "<class 'pandas.core.frame.DataFrame'>\n",
      "RangeIndex: 891 entries, 0 to 890\n",
      "Data columns (total 12 columns):\n",
      " #   Column       Non-Null Count  Dtype  \n",
      "---  ------       --------------  -----  \n",
      " 0   PassengerId  891 non-null    int64  \n",
      " 1   Survived     891 non-null    int64  \n",
      " 2   Pclass       891 non-null    int64  \n",
      " 3   Name         891 non-null    object \n",
      " 4   Sex          891 non-null    object \n",
      " 5   Age          714 non-null    float64\n",
      " 6   SibSp        891 non-null    int64  \n",
      " 7   Parch        891 non-null    int64  \n",
      " 8   Ticket       891 non-null    object \n",
      " 9   Fare         891 non-null    float64\n",
      " 10  Cabin        204 non-null    object \n",
      " 11  Embarked     889 non-null    object \n",
      "dtypes: float64(2), int64(5), object(5)\n",
      "memory usage: 83.7+ KB\n"
     ]
    }
   ],
   "source": [
    "# 변수 확인\n",
    "data.info()"
   ]
  },
  {
   "cell_type": "code",
   "execution_count": 44,
   "metadata": {
    "id": "LhAk04Uy4Occ"
   },
   "outputs": [
    {
     "data": {
      "text/html": [
       "<div>\n",
       "<style scoped>\n",
       "    .dataframe tbody tr th:only-of-type {\n",
       "        vertical-align: middle;\n",
       "    }\n",
       "\n",
       "    .dataframe tbody tr th {\n",
       "        vertical-align: top;\n",
       "    }\n",
       "\n",
       "    .dataframe thead th {\n",
       "        text-align: right;\n",
       "    }\n",
       "</style>\n",
       "<table border=\"1\" class=\"dataframe\">\n",
       "  <thead>\n",
       "    <tr style=\"text-align: right;\">\n",
       "      <th></th>\n",
       "      <th>PassengerId</th>\n",
       "      <th>Survived</th>\n",
       "      <th>Pclass</th>\n",
       "      <th>Age</th>\n",
       "      <th>SibSp</th>\n",
       "      <th>Parch</th>\n",
       "      <th>Fare</th>\n",
       "    </tr>\n",
       "  </thead>\n",
       "  <tbody>\n",
       "    <tr>\n",
       "      <th>count</th>\n",
       "      <td>891.000000</td>\n",
       "      <td>891.000000</td>\n",
       "      <td>891.000000</td>\n",
       "      <td>714.000000</td>\n",
       "      <td>891.000000</td>\n",
       "      <td>891.000000</td>\n",
       "      <td>891.000000</td>\n",
       "    </tr>\n",
       "    <tr>\n",
       "      <th>mean</th>\n",
       "      <td>446.000000</td>\n",
       "      <td>0.383838</td>\n",
       "      <td>2.308642</td>\n",
       "      <td>29.699118</td>\n",
       "      <td>0.523008</td>\n",
       "      <td>0.381594</td>\n",
       "      <td>32.204208</td>\n",
       "    </tr>\n",
       "    <tr>\n",
       "      <th>std</th>\n",
       "      <td>257.353842</td>\n",
       "      <td>0.486592</td>\n",
       "      <td>0.836071</td>\n",
       "      <td>14.526497</td>\n",
       "      <td>1.102743</td>\n",
       "      <td>0.806057</td>\n",
       "      <td>49.693429</td>\n",
       "    </tr>\n",
       "    <tr>\n",
       "      <th>min</th>\n",
       "      <td>1.000000</td>\n",
       "      <td>0.000000</td>\n",
       "      <td>1.000000</td>\n",
       "      <td>0.420000</td>\n",
       "      <td>0.000000</td>\n",
       "      <td>0.000000</td>\n",
       "      <td>0.000000</td>\n",
       "    </tr>\n",
       "    <tr>\n",
       "      <th>25%</th>\n",
       "      <td>223.500000</td>\n",
       "      <td>0.000000</td>\n",
       "      <td>2.000000</td>\n",
       "      <td>20.125000</td>\n",
       "      <td>0.000000</td>\n",
       "      <td>0.000000</td>\n",
       "      <td>7.910400</td>\n",
       "    </tr>\n",
       "    <tr>\n",
       "      <th>50%</th>\n",
       "      <td>446.000000</td>\n",
       "      <td>0.000000</td>\n",
       "      <td>3.000000</td>\n",
       "      <td>28.000000</td>\n",
       "      <td>0.000000</td>\n",
       "      <td>0.000000</td>\n",
       "      <td>14.454200</td>\n",
       "    </tr>\n",
       "    <tr>\n",
       "      <th>75%</th>\n",
       "      <td>668.500000</td>\n",
       "      <td>1.000000</td>\n",
       "      <td>3.000000</td>\n",
       "      <td>38.000000</td>\n",
       "      <td>1.000000</td>\n",
       "      <td>0.000000</td>\n",
       "      <td>31.000000</td>\n",
       "    </tr>\n",
       "    <tr>\n",
       "      <th>max</th>\n",
       "      <td>891.000000</td>\n",
       "      <td>1.000000</td>\n",
       "      <td>3.000000</td>\n",
       "      <td>80.000000</td>\n",
       "      <td>8.000000</td>\n",
       "      <td>6.000000</td>\n",
       "      <td>512.329200</td>\n",
       "    </tr>\n",
       "  </tbody>\n",
       "</table>\n",
       "</div>"
      ],
      "text/plain": [
       "       PassengerId    Survived      Pclass         Age       SibSp  \\\n",
       "count   891.000000  891.000000  891.000000  714.000000  891.000000   \n",
       "mean    446.000000    0.383838    2.308642   29.699118    0.523008   \n",
       "std     257.353842    0.486592    0.836071   14.526497    1.102743   \n",
       "min       1.000000    0.000000    1.000000    0.420000    0.000000   \n",
       "25%     223.500000    0.000000    2.000000   20.125000    0.000000   \n",
       "50%     446.000000    0.000000    3.000000   28.000000    0.000000   \n",
       "75%     668.500000    1.000000    3.000000   38.000000    1.000000   \n",
       "max     891.000000    1.000000    3.000000   80.000000    8.000000   \n",
       "\n",
       "            Parch        Fare  \n",
       "count  891.000000  891.000000  \n",
       "mean     0.381594   32.204208  \n",
       "std      0.806057   49.693429  \n",
       "min      0.000000    0.000000  \n",
       "25%      0.000000    7.910400  \n",
       "50%      0.000000   14.454200  \n",
       "75%      0.000000   31.000000  \n",
       "max      6.000000  512.329200  "
      ]
     },
     "execution_count": 44,
     "metadata": {},
     "output_type": "execute_result"
    }
   ],
   "source": [
    "# 기초통계량 확인\n",
    "data.describe()"
   ]
  },
  {
   "cell_type": "code",
   "execution_count": 45,
   "metadata": {
    "id": "nRYIgZxT0pXk"
   },
   "outputs": [
    {
     "data": {
      "text/plain": [
       "PassengerId      0\n",
       "Survived         0\n",
       "Pclass           0\n",
       "Name             0\n",
       "Sex              0\n",
       "Age            177\n",
       "SibSp            0\n",
       "Parch            0\n",
       "Ticket           0\n",
       "Fare             0\n",
       "Cabin          687\n",
       "Embarked         2\n",
       "dtype: int64"
      ]
     },
     "execution_count": 45,
     "metadata": {},
     "output_type": "execute_result"
    }
   ],
   "source": [
    "# NaN 값 확인\n",
    "data.isnull().sum()"
   ]
  },
  {
   "cell_type": "markdown",
   "metadata": {
    "id": "wW0d0eGmCYJM"
   },
   "source": [
    "# 3.데이터 준비\n",
    "\n",
    "- 전처리 과정을 통해 머신러닝 알고리즘에 사용할 수 있는 형태의 데이터를 준비합니다."
   ]
  },
  {
   "cell_type": "markdown",
   "metadata": {
    "id": "ZHAm-eoFse1_"
   },
   "source": [
    "**1) Title 변수 추가**"
   ]
  },
  {
   "cell_type": "code",
   "execution_count": 46,
   "metadata": {
    "id": "lgmZKwlsY54S"
   },
   "outputs": [],
   "source": [
    "# 호칭 추출\n",
    "data['Title'] = data['Name'].str.extract('([A-Za-z]+)\\.', expand=False)"
   ]
  },
  {
   "cell_type": "code",
   "execution_count": 47,
   "metadata": {
    "id": "3Lm6IKZgwUiQ"
   },
   "outputs": [],
   "source": [
    "# 대표 호칭 이외는 Others로 변경\n",
    "main_tit_list = ['Mr', 'Miss', 'Mrs']\n",
    "data.loc[data['Title'].isin(main_tit_list)==False, ['Title']] = 'Others'"
   ]
  },
  {
   "cell_type": "markdown",
   "metadata": {
    "id": "mIxcFuf0CoxF"
   },
   "source": [
    "**2) 결측치 처리**"
   ]
  },
  {
   "cell_type": "code",
   "execution_count": 48,
   "metadata": {
    "id": "TBr9jcvWPJmi"
   },
   "outputs": [],
   "source": [
    "# Age 중앙값으로 채우기\n",
    "data['Age'].fillna(data.groupby('Title')['Age'].transform('median'), inplace=True)"
   ]
  },
  {
   "cell_type": "code",
   "execution_count": 49,
   "metadata": {
    "id": "o4A84dEAPOwy"
   },
   "outputs": [],
   "source": [
    "# Embarked 최빈값으로 채우기\n",
    "data['Embarked'] = data['Embarked'].fillna('S')"
   ]
  },
  {
   "cell_type": "markdown",
   "metadata": {
    "id": "CJjbn2YUQug8"
   },
   "source": [
    "**3) AgeGroup 변수 추가**"
   ]
  },
  {
   "cell_type": "code",
   "execution_count": 50,
   "metadata": {
    "id": "YHv6AA2ah0_6"
   },
   "outputs": [],
   "source": [
    "# 변수 추가\n",
    "bins = [0, 16, 25, 35, 60, 100]\n",
    "data['AgeGroup'] = pd.cut(data['Age'], \n",
    "                          bins=bins, \n",
    "                          labels=['0_16', '17_25', '26_35', '36_60', '61_100'])"
   ]
  },
  {
   "cell_type": "markdown",
   "metadata": {
    "id": "FmptGbWLBHn5"
   },
   "source": [
    "**4) 가변수화**"
   ]
  },
  {
   "cell_type": "code",
   "execution_count": 51,
   "metadata": {
    "id": "CDnjJtWVfGyx"
   },
   "outputs": [],
   "source": [
    "# 가변수화\n",
    "dummy_vars = ['Title', 'AgeGroup', 'Pclass', 'Sex', 'Embarked']\n",
    "\n",
    "for v in dummy_vars:\n",
    "    dummies = pd.get_dummies(data[v], prefix=v, drop_first=True)\n",
    "    data = pd.concat([data, dummies], axis=1)\n",
    "    data.drop(v, axis=1, inplace=True)"
   ]
  },
  {
   "cell_type": "markdown",
   "metadata": {
    "id": "TfOiIj7lCfiG"
   },
   "source": [
    "**5) 불필요한 변수 제거**"
   ]
  },
  {
   "cell_type": "code",
   "execution_count": 52,
   "metadata": {
    "id": "oLG_6OZVCfsc"
   },
   "outputs": [],
   "source": [
    "# 불필요한 열 제거\n",
    "drop_cols = ['PassengerId', 'Name', 'Age', 'Ticket', 'Cabin']\n",
    "data.drop(drop_cols, axis=1, inplace=True)"
   ]
  },
  {
   "cell_type": "markdown",
   "metadata": {
    "id": "RG1UJL0osG8D"
   },
   "source": [
    "**6) x, y 분리**"
   ]
  },
  {
   "cell_type": "code",
   "execution_count": 53,
   "metadata": {
    "id": "EV8xNHnOsG8E"
   },
   "outputs": [],
   "source": [
    "# target 확인\n",
    "target = 'Survived'\n",
    "\n",
    "# 데이터 분리\n",
    "x = data.drop(target, axis = 1)\n",
    "y = data[target] "
   ]
  },
  {
   "cell_type": "markdown",
   "metadata": {
    "id": "NkkBlJXY76uA"
   },
   "source": [
    "**7) 정규화**"
   ]
  },
  {
   "cell_type": "code",
   "execution_count": 54,
   "metadata": {
    "id": "1ixacT7776uA"
   },
   "outputs": [
    {
     "data": {
      "text/html": [
       "<div>\n",
       "<style scoped>\n",
       "    .dataframe tbody tr th:only-of-type {\n",
       "        vertical-align: middle;\n",
       "    }\n",
       "\n",
       "    .dataframe tbody tr th {\n",
       "        vertical-align: top;\n",
       "    }\n",
       "\n",
       "    .dataframe thead th {\n",
       "        text-align: right;\n",
       "    }\n",
       "</style>\n",
       "<table border=\"1\" class=\"dataframe\">\n",
       "  <thead>\n",
       "    <tr style=\"text-align: right;\">\n",
       "      <th></th>\n",
       "      <th>SibSp</th>\n",
       "      <th>Parch</th>\n",
       "      <th>Fare</th>\n",
       "      <th>Title_Mr</th>\n",
       "      <th>Title_Mrs</th>\n",
       "      <th>Title_Others</th>\n",
       "      <th>AgeGroup_17_25</th>\n",
       "      <th>AgeGroup_26_35</th>\n",
       "      <th>AgeGroup_36_60</th>\n",
       "      <th>AgeGroup_61_100</th>\n",
       "      <th>Pclass_2</th>\n",
       "      <th>Pclass_3</th>\n",
       "      <th>Sex_male</th>\n",
       "      <th>Embarked_Q</th>\n",
       "      <th>Embarked_S</th>\n",
       "    </tr>\n",
       "  </thead>\n",
       "  <tbody>\n",
       "    <tr>\n",
       "      <th>0</th>\n",
       "      <td>0.125</td>\n",
       "      <td>0.0</td>\n",
       "      <td>0.014151</td>\n",
       "      <td>1</td>\n",
       "      <td>0</td>\n",
       "      <td>0</td>\n",
       "      <td>1</td>\n",
       "      <td>0</td>\n",
       "      <td>0</td>\n",
       "      <td>0</td>\n",
       "      <td>0</td>\n",
       "      <td>1</td>\n",
       "      <td>1</td>\n",
       "      <td>0</td>\n",
       "      <td>1</td>\n",
       "    </tr>\n",
       "    <tr>\n",
       "      <th>1</th>\n",
       "      <td>0.125</td>\n",
       "      <td>0.0</td>\n",
       "      <td>0.139136</td>\n",
       "      <td>0</td>\n",
       "      <td>1</td>\n",
       "      <td>0</td>\n",
       "      <td>0</td>\n",
       "      <td>0</td>\n",
       "      <td>1</td>\n",
       "      <td>0</td>\n",
       "      <td>0</td>\n",
       "      <td>0</td>\n",
       "      <td>0</td>\n",
       "      <td>0</td>\n",
       "      <td>0</td>\n",
       "    </tr>\n",
       "    <tr>\n",
       "      <th>2</th>\n",
       "      <td>0.000</td>\n",
       "      <td>0.0</td>\n",
       "      <td>0.015469</td>\n",
       "      <td>0</td>\n",
       "      <td>0</td>\n",
       "      <td>0</td>\n",
       "      <td>0</td>\n",
       "      <td>1</td>\n",
       "      <td>0</td>\n",
       "      <td>0</td>\n",
       "      <td>0</td>\n",
       "      <td>1</td>\n",
       "      <td>0</td>\n",
       "      <td>0</td>\n",
       "      <td>1</td>\n",
       "    </tr>\n",
       "    <tr>\n",
       "      <th>3</th>\n",
       "      <td>0.125</td>\n",
       "      <td>0.0</td>\n",
       "      <td>0.103644</td>\n",
       "      <td>0</td>\n",
       "      <td>1</td>\n",
       "      <td>0</td>\n",
       "      <td>0</td>\n",
       "      <td>1</td>\n",
       "      <td>0</td>\n",
       "      <td>0</td>\n",
       "      <td>0</td>\n",
       "      <td>0</td>\n",
       "      <td>0</td>\n",
       "      <td>0</td>\n",
       "      <td>1</td>\n",
       "    </tr>\n",
       "    <tr>\n",
       "      <th>4</th>\n",
       "      <td>0.000</td>\n",
       "      <td>0.0</td>\n",
       "      <td>0.015713</td>\n",
       "      <td>1</td>\n",
       "      <td>0</td>\n",
       "      <td>0</td>\n",
       "      <td>0</td>\n",
       "      <td>1</td>\n",
       "      <td>0</td>\n",
       "      <td>0</td>\n",
       "      <td>0</td>\n",
       "      <td>1</td>\n",
       "      <td>1</td>\n",
       "      <td>0</td>\n",
       "      <td>1</td>\n",
       "    </tr>\n",
       "  </tbody>\n",
       "</table>\n",
       "</div>"
      ],
      "text/plain": [
       "   SibSp  Parch      Fare  Title_Mr  Title_Mrs  Title_Others  AgeGroup_17_25  \\\n",
       "0  0.125    0.0  0.014151         1          0             0               1   \n",
       "1  0.125    0.0  0.139136         0          1             0               0   \n",
       "2  0.000    0.0  0.015469         0          0             0               0   \n",
       "3  0.125    0.0  0.103644         0          1             0               0   \n",
       "4  0.000    0.0  0.015713         1          0             0               0   \n",
       "\n",
       "   AgeGroup_26_35  AgeGroup_36_60  AgeGroup_61_100  Pclass_2  Pclass_3  \\\n",
       "0               0               0                0         0         1   \n",
       "1               0               1                0         0         0   \n",
       "2               1               0                0         0         1   \n",
       "3               1               0                0         0         0   \n",
       "4               1               0                0         0         1   \n",
       "\n",
       "   Sex_male  Embarked_Q  Embarked_S  \n",
       "0         1           0           1  \n",
       "1         0           0           0  \n",
       "2         0           0           1  \n",
       "3         0           0           1  \n",
       "4         1           0           1  "
      ]
     },
     "execution_count": 54,
     "metadata": {},
     "output_type": "execute_result"
    }
   ],
   "source": [
    "# 정규화\n",
    "cols = ['SibSp', 'Parch', 'Fare']\n",
    "x[cols] = (x[cols] - x[cols].min()) / (x[cols].max() - x[cols].min())\n",
    "\n",
    "# 확인\n",
    "x.head()"
   ]
  },
  {
   "cell_type": "markdown",
   "metadata": {
    "id": "6bEXi1xXsG8E"
   },
   "source": [
    "**8) 학습용, 평가용 데이터 분리**"
   ]
  },
  {
   "cell_type": "code",
   "execution_count": 55,
   "metadata": {
    "id": "xqBY-KATsG8F"
   },
   "outputs": [],
   "source": [
    "# 모듈 불러오기\n",
    "from sklearn.model_selection import train_test_split\n",
    "\n",
    "# 7:3으로 분리\n",
    "x_train, x_test, y_train, y_test = train_test_split(x, y, test_size=0.3, random_state=2022)"
   ]
  },
  {
   "cell_type": "markdown",
   "metadata": {
    "id": "Lk_l7EbFLozC"
   },
   "source": [
    "# 4.모델링\n",
    "\n",
    "- 본격적으로 모델을 선언하고 학습하고 평가하는 과정을 진행합니다.\n",
    "- 모델 선언시 n_neighbors=5를 지정합니다."
   ]
  },
  {
   "cell_type": "code",
   "execution_count": 56,
   "metadata": {
    "id": "34D0HheALozD"
   },
   "outputs": [],
   "source": [
    "# 불러오기\n",
    "from sklearn.neighbors import KNeighborsClassifier\n",
    "from sklearn.metrics import confusion_matrix, classification_report"
   ]
  },
  {
   "cell_type": "code",
   "execution_count": 57,
   "metadata": {
    "id": "WVR8w8JsLozE"
   },
   "outputs": [],
   "source": [
    "# 선언하기\n",
    "model = KNeighborsClassifier(n_neighbors=5) # n_neighbors=5 : 디폴트 값"
   ]
  },
  {
   "cell_type": "code",
   "execution_count": 58,
   "metadata": {
    "id": "GOStSzLDLozE"
   },
   "outputs": [
    {
     "data": {
      "text/plain": [
       "KNeighborsClassifier()"
      ]
     },
     "execution_count": 58,
     "metadata": {},
     "output_type": "execute_result"
    }
   ],
   "source": [
    "# 학습하기\n",
    "model.fit(x_train, y_train)"
   ]
  },
  {
   "cell_type": "code",
   "execution_count": 59,
   "metadata": {
    "id": "EDXS038iLozF"
   },
   "outputs": [],
   "source": [
    "# 예측하기\n",
    "y_pred = model.predict(x_test)"
   ]
  },
  {
   "cell_type": "code",
   "execution_count": 60,
   "metadata": {
    "id": "XECeBdXRLozF"
   },
   "outputs": [
    {
     "name": "stdout",
     "output_type": "stream",
     "text": [
      "[[152  16]\n",
      " [ 34  66]]\n",
      "              precision    recall  f1-score   support\n",
      "\n",
      "           0       0.82      0.90      0.86       168\n",
      "           1       0.80      0.66      0.73       100\n",
      "\n",
      "    accuracy                           0.81       268\n",
      "   macro avg       0.81      0.78      0.79       268\n",
      "weighted avg       0.81      0.81      0.81       268\n",
      "\n"
     ]
    }
   ],
   "source": [
    "# 평가하기\n",
    "print(confusion_matrix(y_test, y_pred))\n",
    "print(classification_report(y_test, y_pred))"
   ]
  },
  {
   "cell_type": "markdown",
   "metadata": {
    "id": "I7Hgd2ovoaty"
   },
   "source": [
    "# 5.성능 튜닝\n",
    "\n",
    "- Grid Search로 튜닝을 진행합니다. "
   ]
  },
  {
   "cell_type": "markdown",
   "metadata": {
    "id": "7tyVP1q7QViv"
   },
   "source": [
    "**1) 모델링 & 튜닝**"
   ]
  },
  {
   "cell_type": "code",
   "execution_count": 61,
   "metadata": {
    "id": "Gq9IRB-ctYwC"
   },
   "outputs": [
    {
     "data": {
      "text/plain": [
       "{'n_neighbors': range(5, 31)}"
      ]
     },
     "execution_count": 61,
     "metadata": {},
     "output_type": "execute_result"
    }
   ],
   "source": [
    "# 파라미터 선언\n",
    "  # n_neighbors: range(5, 31)\n",
    "grid_param = {'n_neighbors':range(5, 31)}\n",
    "\n",
    "# 확인\n",
    "grid_param"
   ]
  },
  {
   "cell_type": "code",
   "execution_count": 62,
   "metadata": {
    "id": "jjGMEBYSoaty"
   },
   "outputs": [],
   "source": [
    "# 불러오기\n",
    "from sklearn.neighbors import KNeighborsClassifier\n",
    "from sklearn.model_selection import GridSearchCV"
   ]
  },
  {
   "cell_type": "code",
   "execution_count": 63,
   "metadata": {
    "id": "FpurbgoBvzVK"
   },
   "outputs": [],
   "source": [
    "# 선언하기\n",
    "model_knn = KNeighborsClassifier()\n",
    "\n",
    "# Grid Search 모델 선언하기\n",
    "  # cv=10\n",
    "  # scoring='accuracy'\n",
    "model = GridSearchCV(model_knn, # 기본 모델 이름\n",
    "                    grid_param, # 앞에서 선언한 튜닝용 파라미터 변수\n",
    "                    cv=10,  # K-Fold Cross Validation(default=5)\n",
    "                    scoring='accuracy',  # 평가 방법\n",
    "                    n_jobs=-1) # cpu성능 좋아지게 병렬처리"
   ]
  },
  {
   "cell_type": "code",
   "execution_count": 64,
   "metadata": {
    "id": "_t3iAXWyoat2"
   },
   "outputs": [
    {
     "data": {
      "text/plain": [
       "GridSearchCV(cv=10, estimator=KNeighborsClassifier(), n_jobs=-1,\n",
       "             param_grid={'n_neighbors': range(5, 31)}, scoring='accuracy')"
      ]
     },
     "execution_count": 64,
     "metadata": {},
     "output_type": "execute_result"
    }
   ],
   "source": [
    "# 학습하기\n",
    "model.fit(x_train, y_train)"
   ]
  },
  {
   "cell_type": "markdown",
   "metadata": {
    "id": "O7qCwA0KILTS"
   },
   "source": [
    "**2) 결과 확인**"
   ]
  },
  {
   "cell_type": "code",
   "execution_count": 65,
   "metadata": {},
   "outputs": [
    {
     "data": {
      "text/plain": [
       "{'mean_fit_time': array([0.01078861, 0.00849185, 0.00820777, 0.00887523, 0.00853856,\n",
       "        0.00859749, 0.00859804, 0.00940607, 0.009235  , 0.00770612,\n",
       "        0.0085629 , 0.01175747, 0.00847828, 0.00841146, 0.00842161,\n",
       "        0.00892026, 0.01179819, 0.01168566, 0.00883083, 0.00955045,\n",
       "        0.01096466, 0.01245515, 0.00793412, 0.00963507, 0.01073704,\n",
       "        0.00780141]),\n",
       " 'std_fit_time': array([0.00249811, 0.00087067, 0.00155461, 0.00146013, 0.00155833,\n",
       "        0.00282234, 0.00109951, 0.00367293, 0.00118294, 0.00103042,\n",
       "        0.00191554, 0.00408546, 0.0008226 , 0.00085852, 0.00128033,\n",
       "        0.0013489 , 0.00389235, 0.00246141, 0.001252  , 0.00112355,\n",
       "        0.0031832 , 0.00853314, 0.00141415, 0.00332345, 0.00648872,\n",
       "        0.00079988]),\n",
       " 'mean_score_time': array([0.01127021, 0.01100519, 0.01093616, 0.01191049, 0.01331527,\n",
       "        0.01005054, 0.01247561, 0.01073992, 0.01143165, 0.01178012,\n",
       "        0.01176012, 0.01572475, 0.01014512, 0.0113951 , 0.0120213 ,\n",
       "        0.01381364, 0.01335361, 0.01275952, 0.01136525, 0.011905  ,\n",
       "        0.01515226, 0.01334772, 0.01017075, 0.01148396, 0.0124629 ,\n",
       "        0.01027839]),\n",
       " 'std_score_time': array([0.00067681, 0.00241088, 0.0019129 , 0.00199292, 0.00756888,\n",
       "        0.00146075, 0.00382829, 0.00218299, 0.00277181, 0.00319222,\n",
       "        0.00197077, 0.00958673, 0.00170219, 0.00253436, 0.00231711,\n",
       "        0.00371393, 0.00428913, 0.00322069, 0.00117503, 0.00111229,\n",
       "        0.00661941, 0.00605306, 0.00057047, 0.00203971, 0.00370623,\n",
       "        0.00152467]),\n",
       " 'param_n_neighbors': masked_array(data=[5, 6, 7, 8, 9, 10, 11, 12, 13, 14, 15, 16, 17, 18, 19,\n",
       "                    20, 21, 22, 23, 24, 25, 26, 27, 28, 29, 30],\n",
       "              mask=[False, False, False, False, False, False, False, False,\n",
       "                    False, False, False, False, False, False, False, False,\n",
       "                    False, False, False, False, False, False, False, False,\n",
       "                    False, False],\n",
       "        fill_value='?',\n",
       "             dtype=object),\n",
       " 'params': [{'n_neighbors': 5},\n",
       "  {'n_neighbors': 6},\n",
       "  {'n_neighbors': 7},\n",
       "  {'n_neighbors': 8},\n",
       "  {'n_neighbors': 9},\n",
       "  {'n_neighbors': 10},\n",
       "  {'n_neighbors': 11},\n",
       "  {'n_neighbors': 12},\n",
       "  {'n_neighbors': 13},\n",
       "  {'n_neighbors': 14},\n",
       "  {'n_neighbors': 15},\n",
       "  {'n_neighbors': 16},\n",
       "  {'n_neighbors': 17},\n",
       "  {'n_neighbors': 18},\n",
       "  {'n_neighbors': 19},\n",
       "  {'n_neighbors': 20},\n",
       "  {'n_neighbors': 21},\n",
       "  {'n_neighbors': 22},\n",
       "  {'n_neighbors': 23},\n",
       "  {'n_neighbors': 24},\n",
       "  {'n_neighbors': 25},\n",
       "  {'n_neighbors': 26},\n",
       "  {'n_neighbors': 27},\n",
       "  {'n_neighbors': 28},\n",
       "  {'n_neighbors': 29},\n",
       "  {'n_neighbors': 30}],\n",
       " 'split0_test_score': array([0.80952381, 0.79365079, 0.77777778, 0.77777778, 0.77777778,\n",
       "        0.77777778, 0.77777778, 0.77777778, 0.77777778, 0.77777778,\n",
       "        0.74603175, 0.76190476, 0.77777778, 0.76190476, 0.76190476,\n",
       "        0.76190476, 0.77777778, 0.76190476, 0.77777778, 0.79365079,\n",
       "        0.80952381, 0.77777778, 0.79365079, 0.79365079, 0.79365079,\n",
       "        0.79365079]),\n",
       " 'split1_test_score': array([0.79365079, 0.80952381, 0.82539683, 0.79365079, 0.80952381,\n",
       "        0.79365079, 0.77777778, 0.76190476, 0.74603175, 0.76190476,\n",
       "        0.74603175, 0.74603175, 0.71428571, 0.74603175, 0.71428571,\n",
       "        0.71428571, 0.71428571, 0.74603175, 0.73015873, 0.71428571,\n",
       "        0.6984127 , 0.6984127 , 0.6984127 , 0.74603175, 0.71428571,\n",
       "        0.71428571]),\n",
       " 'split2_test_score': array([0.79365079, 0.77777778, 0.77777778, 0.76190476, 0.74603175,\n",
       "        0.73015873, 0.77777778, 0.76190476, 0.77777778, 0.77777778,\n",
       "        0.79365079, 0.80952381, 0.79365079, 0.79365079, 0.80952381,\n",
       "        0.79365079, 0.80952381, 0.80952381, 0.80952381, 0.82539683,\n",
       "        0.84126984, 0.84126984, 0.84126984, 0.85714286, 0.85714286,\n",
       "        0.84126984]),\n",
       " 'split3_test_score': array([0.83870968, 0.82258065, 0.82258065, 0.77419355, 0.80645161,\n",
       "        0.77419355, 0.75806452, 0.75806452, 0.75806452, 0.75806452,\n",
       "        0.74193548, 0.74193548, 0.77419355, 0.77419355, 0.79032258,\n",
       "        0.79032258, 0.77419355, 0.80645161, 0.80645161, 0.77419355,\n",
       "        0.77419355, 0.77419355, 0.77419355, 0.77419355, 0.77419355,\n",
       "        0.77419355]),\n",
       " 'split4_test_score': array([0.87096774, 0.87096774, 0.85483871, 0.87096774, 0.85483871,\n",
       "        0.87096774, 0.87096774, 0.87096774, 0.87096774, 0.87096774,\n",
       "        0.85483871, 0.85483871, 0.83870968, 0.83870968, 0.82258065,\n",
       "        0.85483871, 0.85483871, 0.83870968, 0.85483871, 0.83870968,\n",
       "        0.83870968, 0.85483871, 0.85483871, 0.85483871, 0.85483871,\n",
       "        0.85483871]),\n",
       " 'split5_test_score': array([0.87096774, 0.85483871, 0.82258065, 0.83870968, 0.83870968,\n",
       "        0.85483871, 0.82258065, 0.83870968, 0.82258065, 0.83870968,\n",
       "        0.85483871, 0.83870968, 0.83870968, 0.82258065, 0.82258065,\n",
       "        0.82258065, 0.82258065, 0.83870968, 0.83870968, 0.85483871,\n",
       "        0.87096774, 0.87096774, 0.87096774, 0.87096774, 0.87096774,\n",
       "        0.88709677]),\n",
       " 'split6_test_score': array([0.87096774, 0.87096774, 0.87096774, 0.85483871, 0.83870968,\n",
       "        0.88709677, 0.88709677, 0.87096774, 0.83870968, 0.85483871,\n",
       "        0.83870968, 0.83870968, 0.80645161, 0.82258065, 0.82258065,\n",
       "        0.85483871, 0.85483871, 0.85483871, 0.85483871, 0.79032258,\n",
       "        0.80645161, 0.82258065, 0.82258065, 0.82258065, 0.82258065,\n",
       "        0.82258065]),\n",
       " 'split7_test_score': array([0.82258065, 0.82258065, 0.82258065, 0.82258065, 0.77419355,\n",
       "        0.75806452, 0.77419355, 0.77419355, 0.77419355, 0.75806452,\n",
       "        0.75806452, 0.75806452, 0.77419355, 0.75806452, 0.74193548,\n",
       "        0.72580645, 0.72580645, 0.74193548, 0.70967742, 0.75806452,\n",
       "        0.75806452, 0.75806452, 0.77419355, 0.75806452, 0.77419355,\n",
       "        0.77419355]),\n",
       " 'split8_test_score': array([0.85483871, 0.85483871, 0.82258065, 0.82258065, 0.85483871,\n",
       "        0.83870968, 0.79032258, 0.80645161, 0.80645161, 0.82258065,\n",
       "        0.79032258, 0.80645161, 0.80645161, 0.80645161, 0.80645161,\n",
       "        0.80645161, 0.82258065, 0.82258065, 0.83870968, 0.82258065,\n",
       "        0.83870968, 0.82258065, 0.82258065, 0.80645161, 0.80645161,\n",
       "        0.80645161]),\n",
       " 'split9_test_score': array([0.85483871, 0.87096774, 0.87096774, 0.88709677, 0.87096774,\n",
       "        0.87096774, 0.87096774, 0.87096774, 0.85483871, 0.85483871,\n",
       "        0.83870968, 0.87096774, 0.87096774, 0.87096774, 0.85483871,\n",
       "        0.85483871, 0.83870968, 0.83870968, 0.83870968, 0.85483871,\n",
       "        0.85483871, 0.85483871, 0.87096774, 0.85483871, 0.85483871,\n",
       "        0.85483871]),\n",
       " 'mean_test_score': array([0.83806964, 0.83486943, 0.82680492, 0.82043011, 0.8172043 ,\n",
       "        0.8156426 , 0.81075269, 0.80919099, 0.80273938, 0.80755248,\n",
       "        0.79631336, 0.80271377, 0.79953917, 0.79951357, 0.79470046,\n",
       "        0.79795187, 0.79951357, 0.80593958, 0.80593958, 0.80268817,\n",
       "        0.80911418, 0.80755248, 0.81236559, 0.81387609, 0.81231439,\n",
       "        0.81233999]),\n",
       " 'std_test_score': array([0.0296825 , 0.03257249, 0.03093103, 0.04077405, 0.03910586,\n",
       "        0.05249191, 0.04583892, 0.04650318, 0.04042697, 0.04294762,\n",
       "        0.04468189, 0.04537968, 0.04162625, 0.03797707, 0.04080655,\n",
       "        0.04895738, 0.04757367, 0.03940474, 0.04880494, 0.04301289,\n",
       "        0.04978952, 0.05142171, 0.0509571 , 0.04280162, 0.04697931,\n",
       "        0.04801205]),\n",
       " 'rank_test_score': array([ 1,  2,  3,  4,  5,  6, 11, 12, 18, 14, 25, 19, 21, 22, 26, 24, 23,\n",
       "        16, 16, 20, 13, 14,  8,  7, 10,  9])}"
      ]
     },
     "execution_count": 65,
     "metadata": {},
     "output_type": "execute_result"
    }
   ],
   "source": [
    "model.cv_results_ "
   ]
  },
  {
   "cell_type": "code",
   "execution_count": 66,
   "metadata": {},
   "outputs": [
    {
     "data": {
      "text/plain": [
       "array([0.83806964, 0.83486943, 0.82680492, 0.82043011, 0.8172043 ,\n",
       "       0.8156426 , 0.81075269, 0.80919099, 0.80273938, 0.80755248,\n",
       "       0.79631336, 0.80271377, 0.79953917, 0.79951357, 0.79470046,\n",
       "       0.79795187, 0.79951357, 0.80593958, 0.80593958, 0.80268817,\n",
       "       0.80911418, 0.80755248, 0.81236559, 0.81387609, 0.81231439,\n",
       "       0.81233999])"
      ]
     },
     "execution_count": 66,
     "metadata": {},
     "output_type": "execute_result"
    }
   ],
   "source": [
    "# mean_test_score 확인\n",
    "model.cv_results_['mean_test_score']"
   ]
  },
  {
   "cell_type": "code",
   "execution_count": 67,
   "metadata": {
    "id": "LkwjULqSoat4"
   },
   "outputs": [
    {
     "data": {
      "text/plain": [
       "{'n_neighbors': 5}"
      ]
     },
     "execution_count": 67,
     "metadata": {},
     "output_type": "execute_result"
    }
   ],
   "source": [
    "# 최적 파라미터\n",
    "model.best_params_"
   ]
  },
  {
   "cell_type": "code",
   "execution_count": 68,
   "metadata": {
    "id": "16Cv0XoFoat6"
   },
   "outputs": [
    {
     "data": {
      "text/plain": [
       "0.8380696364567332"
      ]
     },
     "execution_count": 68,
     "metadata": {},
     "output_type": "execute_result"
    }
   ],
   "source": [
    "# 최고 성능\n",
    "model.best_score_"
   ]
  },
  {
   "cell_type": "code",
   "execution_count": 69,
   "metadata": {},
   "outputs": [
    {
     "data": {
      "text/plain": [
       "{'algorithm': 'auto',\n",
       " 'leaf_size': 30,\n",
       " 'metric': 'minkowski',\n",
       " 'metric_params': None,\n",
       " 'n_jobs': None,\n",
       " 'n_neighbors': 5,\n",
       " 'p': 2,\n",
       " 'weights': 'uniform'}"
      ]
     },
     "execution_count": 69,
     "metadata": {},
     "output_type": "execute_result"
    }
   ],
   "source": [
    "# 최적의 성능을 보이는 모델 확인\n",
    "model.best_estimator_.get_params()"
   ]
  },
  {
   "cell_type": "markdown",
   "metadata": {
    "id": "MVYJNu70CaLu"
   },
   "source": [
    "**3) 예측과 평가**\n",
    "\n",
    "- 학습을 통해 예상한 성능과 실제 평가에 따른 성능은 차이가 있을 수 있습니다.\n",
    "- 예선전에서 성적이 좋았다고 본선에서도 성적이 좋다고 보장할 수 없는 없겠지요?"
   ]
  },
  {
   "cell_type": "code",
   "execution_count": 70,
   "metadata": {
    "id": "D0NjHNAKoat8"
   },
   "outputs": [],
   "source": [
    "# 예측하기\n",
    "y_pred = model.predict(x_test)"
   ]
  },
  {
   "cell_type": "code",
   "execution_count": 71,
   "metadata": {
    "id": "bAVu7JKtfRhS"
   },
   "outputs": [
    {
     "name": "stdout",
     "output_type": "stream",
     "text": [
      "[[152  16]\n",
      " [ 34  66]]\n",
      "              precision    recall  f1-score   support\n",
      "\n",
      "           0       0.82      0.90      0.86       168\n",
      "           1       0.80      0.66      0.73       100\n",
      "\n",
      "    accuracy                           0.81       268\n",
      "   macro avg       0.81      0.78      0.79       268\n",
      "weighted avg       0.81      0.81      0.81       268\n",
      "\n"
     ]
    }
   ],
   "source": [
    "# 평가하기\n",
    "print(confusion_matrix(y_test, y_pred))\n",
    "print(classification_report(y_test, y_pred))"
   ]
  }
 ],
 "metadata": {
  "colab": {
   "collapsed_sections": [],
   "name": "실습05_03_GridSearch(KNN,Titanic).ipynb",
   "provenance": [],
   "toc_visible": true
  },
  "kernelspec": {
   "display_name": "Python 3",
   "language": "python",
   "name": "python3"
  },
  "language_info": {
   "codemirror_mode": {
    "name": "ipython",
    "version": 3
   },
   "file_extension": ".py",
   "mimetype": "text/x-python",
   "name": "python",
   "nbconvert_exporter": "python",
   "pygments_lexer": "ipython3",
   "version": "3.8.8"
  }
 },
 "nbformat": 4,
 "nbformat_minor": 1
}
